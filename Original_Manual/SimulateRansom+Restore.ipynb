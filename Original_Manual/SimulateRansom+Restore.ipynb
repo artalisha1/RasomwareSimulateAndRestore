{
  "nbformat": 4,
  "nbformat_minor": 0,
  "metadata": {
    "colab": {
      "provenance": []
    },
    "kernelspec": {
      "name": "python3",
      "display_name": "Python 3"
    },
    "language_info": {
      "name": "python"
    }
  },
  "cells": [
    {
      "cell_type": "markdown",
      "source": [
        "##Step 0: Persist everything to Google Drive"
      ],
      "metadata": {
        "id": "eAtXuzDXwJes"
      }
    },
    {
      "cell_type": "code",
      "execution_count": null,
      "metadata": {
        "id": "2yleD2UMvt-U"
      },
      "outputs": [],
      "source": [
        "from google.colab import drive\n",
        "drive.mount('/content/drive')          # Skip this cell if you don't need persistence\n",
        "\n",
        "# Choose a root dir that survives VM resets if you mounted Drive\n",
        "ROOT = \"/content/drive/MyDrive/ransomware_lab\"  # or \"/content\" if Drive not mounted\n",
        "!mkdir -p $ROOT"
      ]
    },
    {
      "cell_type": "markdown",
      "source": [
        "##Step 1: Install Tools"
      ],
      "metadata": {
        "id": "3J1LYmIlwNT_"
      }
    },
    {
      "cell_type": "code",
      "source": [
        "%%bash\n",
        "sudo apt-get update -qq\n",
        "sudo apt-get install -y restic gnupg tree"
      ],
      "metadata": {
        "id": "UtcAI7cDv4ui"
      },
      "execution_count": null,
      "outputs": []
    },
    {
      "cell_type": "code",
      "source": [
        "#Install extra utilities\n",
        "%%bash\n",
        "sudo apt-get install -y inotify-tools   # for near real‑time backup\n",
        "pip install --quiet watchdog            # Python file‑watcher library"
      ],
      "metadata": {
        "id": "go0DxgCi4M6E"
      },
      "execution_count": null,
      "outputs": []
    },
    {
      "cell_type": "markdown",
      "source": [
        "##Step 2: Configure Restic Repo"
      ],
      "metadata": {
        "id": "lcIxuzC-wP8e"
      }
    },
    {
      "cell_type": "code",
      "source": [
        "import os, subprocess, textwrap, getpass, json, pathlib, shutil, time\n",
        "\n",
        "# Change these if you like\n",
        "DATA_DIR      = f\"{ROOT}/victim_data\"\n",
        "RESTIC_REPO   = f\"{ROOT}/backup_repo\"\n",
        "RESTORE_DIR   = f\"{ROOT}/restore\"\n",
        "os.makedirs(DATA_DIR,   exist_ok=True)\n",
        "os.makedirs(RESTORE_DIR, exist_ok=True)\n",
        "\n",
        "# One‑liner to set the repo password (DON'T lose it!)\n",
        "os.environ[\"RESTIC_PASSWORD\"] = \"colab‑demo‑super‑secret\"  # choose a strong one IRL\n",
        "\n",
        "# Initialize repository once\n",
        "if not pathlib.Path(RESTIC_REPO, \"config\").exists():\n",
        "    !restic -r $RESTIC_REPO init"
      ],
      "metadata": {
        "id": "ZY-5RjXgv6vw"
      },
      "execution_count": null,
      "outputs": []
    },
    {
      "cell_type": "markdown",
      "source": [
        "##Step 3: Generate sample \"production\" files"
      ],
      "metadata": {
        "id": "dGa8lunBwTk3"
      }
    },
    {
      "cell_type": "code",
      "source": [
        "%%bash -s \"$DATA_DIR\"\n",
        "TARGET=$1\n",
        "mkdir -p \"$TARGET/docs\" \"$TARGET/images\"\n",
        "\n",
        "# simple text data\n",
        "echo \"Quarterly revenue: \\$123,456\"  > \"$TARGET/docs/report_Q1.txt\"\n",
        "echo \"User list (PII redacted)\"      > \"$TARGET/docs/users.txt\"\n",
        "\n",
        "# simulate binary data\n",
        "head -c 1M </dev/urandom > \"$TARGET/images/raw_sensor_dump.bin\"\n",
        "\n",
        "tree -h \"$TARGET\""
      ],
      "metadata": {
        "id": "gaRCzmvqv_Ar"
      },
      "execution_count": null,
      "outputs": []
    },
    {
      "cell_type": "markdown",
      "source": [
        "##Step 4: Start Watchdog that Snapshots on Every File-close"
      ],
      "metadata": {
        "id": "aQu3lepQ7eO1"
      }
    },
    {
      "cell_type": "code",
      "source": [
        "from watchdog.observers import Observer\n",
        "from watchdog.events import FileSystemEventHandler\n",
        "import subprocess, os\n",
        "\n",
        "class ResticOnClose(FileSystemEventHandler):\n",
        "    def __init__(self, repo, path): self.repo, self.path = repo, path\n",
        "    def on_closed(self, event):\n",
        "        if event.is_directory: return\n",
        "        print(f\"[Watch] {event.src_path} closed → instant backup\")\n",
        "        subprocess.run(\n",
        "            [\"restic\",\"-r\",self.repo,\"backup\",self.path,\"--tag\",\"auto\"],\n",
        "            env=os.environ, check=False\n",
        "        )\n",
        "\n",
        "observer = Observer()\n",
        "observer.schedule(ResticOnClose(RESTIC_REPO, DATA_DIR), str(DATA_DIR), recursive=True)\n",
        "observer.start()\n",
        "print(\"📡 Watchdog active — every write triggers a restic backup\")"
      ],
      "metadata": {
        "id": "fX7FN0yP7dzs"
      },
      "execution_count": null,
      "outputs": []
    },
    {
      "cell_type": "markdown",
      "source": [
        "##Step 5: Start Background Producer\n",
        "Writes new log file every 15 seconds"
      ],
      "metadata": {
        "id": "ejat6OWg60nR"
      }
    },
    {
      "cell_type": "code",
      "source": [
        "import threading, random, string, pathlib, time\n",
        "STREAM_DIR = pathlib.Path(DATA_DIR) / \"logs\"; STREAM_DIR.mkdir(exist_ok=True)\n",
        "\n",
        "def producer(stop_event, interval=15):\n",
        "    while not stop_event.is_set():\n",
        "        fn = STREAM_DIR / f\"log_{int(time.time())}.txt\"\n",
        "        fn.write_text(''.join(random.choices(string.ascii_letters, k=1024)))\n",
        "        print(f\"[Producer] wrote {fn.name}\")\n",
        "        time.sleep(interval)\n",
        "\n",
        "stop_event = threading.Event()\n",
        "prod_thr   = threading.Thread(target=producer, args=(stop_event,), daemon=True)\n",
        "prod_thr.start()"
      ],
      "metadata": {
        "id": "UdGULheR6z96"
      },
      "execution_count": null,
      "outputs": []
    },
    {
      "cell_type": "markdown",
      "source": [
        "##Step 6: First Backup (\"golden\")\n",
        "Initial Baseline snapshot"
      ],
      "metadata": {
        "id": "Pk-fZaCwwc-l"
      }
    },
    {
      "cell_type": "code",
      "source": [
        "%%bash -s \"$DATA_DIR\" \"$RESTIC_REPO\"\n",
        "DATA=$1; REPO=$2\n",
        "restic -r \"$REPO\" backup \"$DATA\" --tag \"baseline\"\n",
        "restic -r \"$REPO\" snapshots"
      ],
      "metadata": {
        "id": "XN9RWSJwwAlg"
      },
      "execution_count": null,
      "outputs": []
    },
    {
      "cell_type": "markdown",
      "source": [
        "##Step 7: 15 Seconds Pause\n",
        "Producer and Watchdog can create auto snapshots"
      ],
      "metadata": {
        "id": "p5a4og-i79sJ"
      }
    },
    {
      "cell_type": "code",
      "source": [
        "import time, subprocess, os\n",
        "print(\"⌛ Sleeping 15 s so real‑time activity accumulates …\")\n",
        "time.sleep(15)\n",
        "!restic -r $RESTIC_REPO snapshots | tail -n +3       # show newest snapshots"
      ],
      "metadata": {
        "id": "Q-_up1L08Js3"
      },
      "execution_count": null,
      "outputs": []
    },
    {
      "cell_type": "markdown",
      "source": [
        "##Step 8: Simulate Ransomware attack"
      ],
      "metadata": {
        "id": "ydAstZS6wjcF"
      }
    },
    {
      "cell_type": "code",
      "source": [
        "%%bash -s \"$DATA_DIR\"\n",
        "VICTIM=$1\n",
        "# Encrypt *.txt as a stand‑in for ransomware, then delete originals\n",
        "cd \"$VICTIM/docs\"\n",
        "for f in *.txt; do\n",
        "  openssl enc -aes-256-cbc -md sha256 -salt -in \"$f\" -out \"${f}.enc\" -pass pass:evil123\n",
        "  shred -u \"$f\"\n",
        "done\n",
        "echo \"After attack:\"\n",
        "tree -h \"$VICTIM\""
      ],
      "metadata": {
        "id": "R55dkZqZ9Awv"
      },
      "execution_count": null,
      "outputs": []
    },
    {
      "cell_type": "markdown",
      "source": [
        "##Step 9: Attempt to Read\n",
        "Will fail"
      ],
      "metadata": {
        "id": "y4jhKPX7woC5"
      }
    },
    {
      "cell_type": "code",
      "source": [
        "import pathlib, sys\n",
        "\n",
        "plaintext = pathlib.Path(DATA_DIR) / \"docs\" / \"report_Q1.txt\"   # original file path\n",
        "\n",
        "try:\n",
        "    text = plaintext.read_text()          # should raise FileNotFoundError\n",
        "    print(\"❌  UNEXPECTED: plaintext still readable!\", text[:100])\n",
        "    sys.exit(1)\n",
        "except (FileNotFoundError, PermissionError):\n",
        "    print(\"✅  Expected failure: plaintext is gone or unreadable — ransomware succeeded.\")"
      ],
      "metadata": {
        "id": "7YVOrUoY8x6D"
      },
      "execution_count": null,
      "outputs": []
    },
    {
      "cell_type": "markdown",
      "source": [
        "##Step 10: Restore the Latest Clean Snapshot"
      ],
      "metadata": {
        "id": "xm9WBmhOwutv"
      }
    },
    {
      "cell_type": "code",
      "source": [
        "#List all snapshots\n",
        "%%bash -s \"$RESTIC_REPO\"\n",
        "echo \"All snapshots in repo:\"\n",
        "restic -r \"$1\" snapshots"
      ],
      "metadata": {
        "id": "bwUKOxCyERNs"
      },
      "execution_count": null,
      "outputs": []
    },
    {
      "cell_type": "code",
      "source": [
        "#Restore the latest baseline (clean) snapshot\n",
        "%%bash -s \"$RESTIC_REPO\" \"$RESTORE_DIR\"\n",
        "restic -r \"$1\" restore latest --tag baseline --target \"$2\"\n",
        "\n",
        "echo \"✅  Restored baseline snapshot to $2\"\n",
        "tree -h \"$2\" | head -n 20"
      ],
      "metadata": {
        "id": "1AYufqAIEbk7"
      },
      "execution_count": null,
      "outputs": []
    },
    {
      "cell_type": "markdown",
      "source": [
        "##Step 11: Verify Restored File Exists and Matches Expected Content"
      ],
      "metadata": {
        "id": "mEWjE2jA-Lhm"
      }
    },
    {
      "cell_type": "code",
      "source": [
        "%%bash\n",
        "# 1. Point to your restore directory\n",
        "export RESTORE_DIR=\"/content/drive/MyDrive/ransomware_lab/restore\"\n",
        "\n",
        "# 2. Locate the nested victim_data folder\n",
        "VICTIM_PATH=$(find \"$RESTORE_DIR\" -type d -name victim_data | head -n1)\n",
        "if [ -z \"$VICTIM_PATH\" ]; then\n",
        "  echo \"❌ Could not find victim_data under $RESTORE_DIR\"\n",
        "  exit 1\n",
        "fi\n",
        "\n",
        "echo \"✅ Restored data is at: $VICTIM_PATH\"\n",
        "\n",
        "# 3. List the docs you recovered\n",
        "echo; echo \"Recovered docs:\"\n",
        "tree -h \"$VICTIM_PATH/docs\" | sed -n '1,5p'\n",
        "\n",
        "# 4. Show the contents of report_Q1.txt\n",
        "echo; echo \"Contents of report_Q1.txt:\"\n",
        "cat \"$VICTIM_PATH/docs/report_Q1.txt\""
      ],
      "metadata": {
        "id": "eRHBle5PHGjZ"
      },
      "execution_count": null,
      "outputs": []
    },
    {
      "cell_type": "code",
      "source": [
        "import pathlib, hashlib, sys\n",
        "\n",
        "# Adjust this to your actual restore path variable if needed\n",
        "restore_root = pathlib.Path(RESTORE_DIR)\n",
        "victim = next(restore_root.rglob(\"victim_data\"), None)\n",
        "if victim is None:\n",
        "    print(\"❌  victim_data not found!\"); sys.exit(1)\n",
        "\n",
        "file = victim / \"docs\" / \"report_Q1.txt\"\n",
        "if not file.exists():\n",
        "    print(\"❌  report_Q1.txt missing!\"); sys.exit(1)\n",
        "\n",
        "content = file.read_text()\n",
        "assert \"Quarterly revenue: $123,456\" in content, \"Content mismatch!\"\n",
        "\n",
        "sha = hashlib.sha256(file.read_bytes()).hexdigest()\n",
        "print(f\"✅  report_Q1.txt verified — SHA‑256: {sha[:12]}…\")"
      ],
      "metadata": {
        "id": "9orVPqZO-QaS"
      },
      "execution_count": null,
      "outputs": []
    },
    {
      "cell_type": "markdown",
      "source": [
        "##Step 12: Compare Original to Restored\n",
        "Sanity Check"
      ],
      "metadata": {
        "id": "7LM9aVFqw3qY"
      }
    },
    {
      "cell_type": "code",
      "source": [
        "%%bash -s \"$DATA_DIR\" \"$RESTORE_DIR\"\n",
        "# $1 is the live data dir, $2 is where Restic put your restore tree\n",
        "ORIG=\"$1\"\n",
        "RESTORE_ROOT=\"$2\"\n",
        "\n",
        "# 2. Locate the restored victim_data under RESTORE_ROOT\n",
        "RESTORED_V=$(find \"$RESTORE_ROOT\" -type d -name victim_data | head -n1)\n",
        "if [ -z \"$RESTORED_V\" ]; then\n",
        "  echo \"❌  Could not find victim_data under $RESTORE_ROOT\"\n",
        "  exit 1\n",
        "fi\n",
        "\n",
        "echo \"✅  Restored data is at: $RESTORED_V\"\n",
        "echo\n",
        "\n",
        "# 3. Compare original vs restored\n",
        "echo \"Comparing live vs restored:\"\n",
        "echo \"  live:     $ORIG\"\n",
        "echo \"  restored: $RESTORED_V\"\n",
        "echo\n",
        "\n",
        "diff -rq \"$ORIG\" \"$RESTORED_V\" \\\n",
        "  && echo \"✅  No unexpected differences.\" \\\n",
        "  || echo \"🔶  Differences above are expected for encrypted docs.\""
      ],
      "metadata": {
        "id": "StnGbId0IeXF"
      },
      "execution_count": null,
      "outputs": []
    },
    {
      "cell_type": "markdown",
      "source": [
        "##Step 13: Stop Background Producer and Watchdog"
      ],
      "metadata": {
        "id": "zYdYrS9L8a7O"
      }
    },
    {
      "cell_type": "code",
      "source": [
        "stop_event.set()               # stop producer loop\n",
        "observer.stop(); observer.join()\n",
        "print(\"✅ Real‑time components shut down\")"
      ],
      "metadata": {
        "id": "tcjofVBM8am5"
      },
      "execution_count": null,
      "outputs": []
    },
    {
      "cell_type": "markdown",
      "source": [
        "##Optional: Prune Workspace\n",
        "* Restores only the baseline snapshot (--tag baseline latest).\n",
        "* Moves the restored victim_data into place, overwriting the encrypted version.\n",
        "* In victim_data/logs, keeps just the newest .txt file.\n",
        "* Cleans up temporary files and then prints the top of your refreshed victim_data"
      ],
      "metadata": {
        "id": "6MBEGDt3KIhe"
      }
    },
    {
      "cell_type": "code",
      "source": [
        "%%bash -s \"$RESTIC_REPO\" \"$DATA_DIR\"\n",
        "# $1 = your Restic repo, $2 = /…/ransomware_lab/victim_data\n",
        "REPO=\"$1\"\n",
        "DATA=\"$2\"\n",
        "PARENT=\"${DATA%/*}\"\n",
        "TEMP=\"$PARENT/temp_restore\"\n",
        "\n",
        "echo \"ℹ️  Restoring baseline snapshot into temp folder…\"\n",
        "rm -rf \"$TEMP\" && mkdir -p \"$TEMP\"\n",
        "restic -r \"$REPO\" restore --tag baseline latest --target \"$TEMP\"\n",
        "\n",
        "echo \"ℹ️  Locating nested victim_data in temp…\"\n",
        "RESTORED=$(find \"$TEMP\" -type d -name victim_data | head -n1)\n",
        "if [ -z \"$RESTORED\" ]; then\n",
        "  echo \"❌  victim_data not found under $TEMP\" && exit 1\n",
        "fi\n",
        "echo \"✅  Found clean snapshot at: $RESTORED\"\n",
        "\n",
        "echo \"ℹ️  Replacing live data…\"\n",
        "rm -rf \"$DATA\"\n",
        "mv \"$RESTORED\" \"$DATA\"\n",
        "\n",
        "echo \"ℹ️  Pruning logs to keep only the latest…\"\n",
        "LOGS=\"$DATA/logs\"\n",
        "if [ -d \"$LOGS\" ]; then\n",
        "  cd \"$LOGS\"\n",
        "  LATEST=$(ls -1t *.txt | head -n1)\n",
        "  echo \"   Keeping only: $LATEST\"\n",
        "  ls *.txt | grep -v \"^$LATEST\\$\" | xargs -r rm --\n",
        "fi\n",
        "\n",
        "echo \"ℹ️  Cleaning up temp folder…\"\n",
        "rm -rf \"$TEMP\"\n",
        "\n",
        "echo; echo \"🎯 Final victim_data structure:\"\n",
        "tree -h \"$DATA\" | sed -n '1,10p'\n"
      ],
      "metadata": {
        "id": "q2c7k7NqLg6p"
      },
      "execution_count": null,
      "outputs": []
    }
  ]
}