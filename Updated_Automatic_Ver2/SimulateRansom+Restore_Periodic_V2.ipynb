{
  "nbformat": 4,
  "nbformat_minor": 0,
  "metadata": {
    "colab": {
      "provenance": [],
      "collapsed_sections": [
        "eAtXuzDXwJes",
        "3J1LYmIlwNT_",
        "lcIxuzC-wP8e",
        "2tqWmPImBFUS",
        "ZFeC0xxcETr2",
        "3ccRa7m6FZTm",
        "p5a4og-i79sJ"
      ]
    },
    "kernelspec": {
      "name": "python3",
      "display_name": "Python 3"
    },
    "language_info": {
      "name": "python"
    }
  },
  "cells": [
    {
      "cell_type": "markdown",
      "source": [
        "#Restic Ransomware Simulation & Auto‑Recovery Lab"
      ],
      "metadata": {
        "id": "iL8FvSkw9Qs-"
      }
    },
    {
      "cell_type": "markdown",
      "source": [
        "Integrates automated Restic snapshots, simulates a ransomware attack, and then verifies and restores the latest clean baseline—all without manual intervention."
      ],
      "metadata": {
        "id": "mYoKGNR7-6-v"
      }
    },
    {
      "cell_type": "markdown",
      "source": [
        "##Summary\n",
        "\n",
        "This notebook spins up a self‑contained playground that"
      ],
      "metadata": {
        "id": "kHrFyLw69RoT"
      }
    },
    {
      "cell_type": "markdown",
      "source": [
        "##Step 0: Persist everything to Google Drive"
      ],
      "metadata": {
        "id": "eAtXuzDXwJes"
      }
    },
    {
      "cell_type": "code",
      "execution_count": 1,
      "metadata": {
        "colab": {
          "base_uri": "https://localhost:8080/"
        },
        "id": "2yleD2UMvt-U",
        "outputId": "779a2835-f349-4f9e-f4af-e42108dbe4b5"
      },
      "outputs": [
        {
          "output_type": "stream",
          "name": "stdout",
          "text": [
            "Mounted at /content/drive\n"
          ]
        }
      ],
      "source": [
        "from google.colab import drive\n",
        "drive.mount('/content/drive')          # Skip this cell if you don't need persistence\n",
        "\n",
        "# Choose a root dir that survives VM resets if you mounted Drive\n",
        "ROOT = \"/content/drive/MyDrive/ransomware_lab\"  # or \"/content\" if Drive not mounted\n",
        "!mkdir -p $ROOT"
      ]
    },
    {
      "cell_type": "markdown",
      "source": [
        "##Step 1: Install Tools"
      ],
      "metadata": {
        "id": "3J1LYmIlwNT_"
      }
    },
    {
      "cell_type": "code",
      "source": [
        "%%bash\n",
        "sudo apt-get update -qq\n",
        "sudo apt-get install -y restic gnupg tree"
      ],
      "metadata": {
        "id": "UtcAI7cDv4ui"
      },
      "execution_count": null,
      "outputs": []
    },
    {
      "cell_type": "code",
      "source": [
        "#Install extra utilities\n",
        "%%bash\n",
        "sudo apt-get install -y inotify-tools   # for near real‑time backup\n",
        "pip install --quiet watchdog            # Python file‑watcher library"
      ],
      "metadata": {
        "id": "go0DxgCi4M6E"
      },
      "execution_count": null,
      "outputs": []
    },
    {
      "cell_type": "markdown",
      "source": [
        "##Step 2: Configure Restic Repo"
      ],
      "metadata": {
        "id": "lcIxuzC-wP8e"
      }
    },
    {
      "cell_type": "code",
      "source": [
        "import os, subprocess, textwrap, getpass, json, pathlib, shutil, time\n",
        "\n",
        "# Change these if you like\n",
        "DATA_DIR      = f\"{ROOT}/victim_data\"\n",
        "RESTIC_REPO   = f\"{ROOT}/backup_repo\"\n",
        "RESTORE_DIR   = f\"{ROOT}/restore\"\n",
        "os.makedirs(DATA_DIR,   exist_ok=True)\n",
        "os.makedirs(RESTORE_DIR, exist_ok=True)\n",
        "\n",
        "# One‑liner to set the repo password (DON'T lose it!)\n",
        "os.environ[\"RESTIC_PASSWORD\"] = \"colab‑demo‑super‑secret\"  # choose a strong one IRL\n",
        "\n",
        "# Initialize repository once\n",
        "if not pathlib.Path(RESTIC_REPO, \"config\").exists():\n",
        "    !restic -r $RESTIC_REPO init"
      ],
      "metadata": {
        "id": "ZY-5RjXgv6vw"
      },
      "execution_count": null,
      "outputs": []
    },
    {
      "cell_type": "markdown",
      "source": [
        "##Step 3: Generate sample \"production\" files"
      ],
      "metadata": {
        "id": "dGa8lunBwTk3"
      }
    },
    {
      "cell_type": "code",
      "source": [
        "%%bash -s \"$DATA_DIR\"\n",
        "TARGET=$1\n",
        "mkdir -p \"$TARGET/docs\" \"$TARGET/images\"\n",
        "\n",
        "# simple text data\n",
        "echo \"Quarterly revenue: \\$123,456\"  > \"$TARGET/docs/report_Q1.txt\"\n",
        "echo \"User list (PII redacted)\"      > \"$TARGET/docs/users.txt\"\n",
        "\n",
        "# simulate binary data\n",
        "head -c 1M </dev/urandom > \"$TARGET/images/raw_sensor_dump.bin\"\n",
        "\n",
        "tree -h \"$TARGET\""
      ],
      "metadata": {
        "id": "gaRCzmvqv_Ar"
      },
      "execution_count": null,
      "outputs": []
    },
    {
      "cell_type": "markdown",
      "source": [
        "##Step 4: Define Helper to Print List of Snapshots"
      ],
      "metadata": {
        "id": "2tqWmPImBFUS"
      }
    },
    {
      "cell_type": "code",
      "source": [
        "import subprocess\n",
        "import sys\n",
        "import os\n",
        "\n",
        "def print_current_snapshots(restic_repo: str):\n",
        "    \"\"\"\n",
        "    Prints the list of snapshots in the specified Restic repository.\n",
        "    Relies on RESTIC_PASSWORD env var for authentication.\n",
        "    \"\"\"\n",
        "    common_args = [\"restic\", \"--repo\", restic_repo]\n",
        "\n",
        "    try:\n",
        "        # Use --no-lock for faster listing if appropriate\n",
        "        output = subprocess.check_output(\n",
        "            common_args + [\"snapshots\", \"--no-lock\"],\n",
        "            env=os.environ,\n",
        "            text=True\n",
        "        )\n",
        "        print(\"🔍 Current snapshots in repository:\")\n",
        "        print(output)\n",
        "    except subprocess.CalledProcessError as e:\n",
        "        err = e.stderr if hasattr(e, 'stderr') and e.stderr else str(e)\n",
        "        print(\"❗ Error listing snapshots:\", err, file=sys.stderr)"
      ],
      "metadata": {
        "id": "v_hAHCVNApKx"
      },
      "execution_count": null,
      "outputs": []
    },
    {
      "cell_type": "markdown",
      "source": [
        "##Step 5: Define Baseline Snapshot Helper"
      ],
      "metadata": {
        "id": "PePgx-KWfSc-"
      }
    },
    {
      "cell_type": "code",
      "source": [
        "import subprocess\n",
        "import json\n",
        "import threading\n",
        "import time\n",
        "from datetime import datetime"
      ],
      "metadata": {
        "id": "wZzqiVsoiVr1"
      },
      "execution_count": null,
      "outputs": []
    },
    {
      "cell_type": "code",
      "source": [
        "def run(cmd: list[str]) -> subprocess.CompletedProcess:\n",
        "    \"\"\"\n",
        "    Run the given command (printing it) and return a CompletedProcess\n",
        "    (with .stdout/.stderr) for downstream parsing.\n",
        "    \"\"\"\n",
        "    print(f\"$ {' '.join(cmd)}\")\n",
        "    return subprocess.run(\n",
        "        cmd,\n",
        "        capture_output=True,\n",
        "        text=True,\n",
        "        check=True\n",
        "    )"
      ],
      "metadata": {
        "id": "h3tUSWwbj7gZ"
      },
      "execution_count": null,
      "outputs": []
    },
    {
      "cell_type": "code",
      "source": [
        "def get_baseline_snapshot_ids(restic_repo: str) -> list[str]:\n",
        "    \"\"\"\n",
        "    Return a list of all snapshot IDs (short form) tagged 'baseline' in the repo.\n",
        "    \"\"\"\n",
        "    proc = run([\"restic\", \"-r\", restic_repo, \"snapshots\", \"--tag\", \"baseline\", \"--json\"])\n",
        "    snaps = json.loads(proc.stdout)\n",
        "    # each snap has keys like \"short_id\", \"time\", etc.\n",
        "    return [snap[\"short_id\"] for snap in snaps]\n"
      ],
      "metadata": {
        "id": "uq0r6PP5iXo1"
      },
      "execution_count": null,
      "outputs": []
    },
    {
      "cell_type": "code",
      "source": [
        "# def print_changed_files(changes: list[str]) -> None:\n",
        "#     \"\"\"\n",
        "#     Nicely print the list of changed file paths, or report none.\n",
        "#     \"\"\"\n",
        "#     if not changes:\n",
        "#         print(\"🔍 No changes detected.\")\n",
        "#     else:\n",
        "#         print(\"🔍 Changed files:\")\n",
        "#         for p in changes:\n",
        "#             print(f\"  • {p}\")\n",
        "\n",
        "def print_diff_details(diff: dict) -> None:\n",
        "    \"\"\"\n",
        "    Pretty-print categorized diff results.\n",
        "    \"\"\"\n",
        "    blocks = [\n",
        "        (\"➕ Added\", diff.get(\"added\", [])),\n",
        "        (\"✏️ Modified\", diff.get(\"modified\", [])),\n",
        "        (\"🗑️ Removed\", diff.get(\"removed\", [])),\n",
        "        (\"🧾 Metadata-only\", diff.get(\"meta\", [])),\n",
        "    ]\n",
        "    any_printed = False\n",
        "    for title, items in blocks:\n",
        "        if items:\n",
        "            any_printed = True\n",
        "            print(title + \":\")\n",
        "            for p in items:\n",
        "                print(f\"  • {p}\")\n",
        "    if not any_printed:\n",
        "        print(\"🔍 No changes detected.\")"
      ],
      "metadata": {
        "id": "pJmcJRRribYZ"
      },
      "execution_count": null,
      "outputs": []
    },
    {
      "cell_type": "code",
      "source": [
        "import re\n",
        "# def get_diff_files(old_id: str, new_id: str, restic_repo: str) -> list[str]:\n",
        "#     \"\"\"\n",
        "#     Return all file paths that restic reports as added, modified, or metadata-updated\n",
        "#     between two snapshots (per restic-diff manpage).\n",
        "#     \"\"\"\n",
        "#     proc = run([\n",
        "#         \"restic\", \"-r\", restic_repo,\n",
        "#         \"diff\", old_id, new_id\n",
        "#     ])\n",
        "#     paths: list[str] = []\n",
        "#     for line in proc.stdout.splitlines():\n",
        "#         if not line:\n",
        "#             continue\n",
        "#         status, path = line.split(\" \", 1)\n",
        "#         # + = added, M = modified, U = metadata updated :contentReference[oaicite:0]{index=0}\n",
        "#         if status in (\"+\", \"M\", \"U\"):\n",
        "#             paths.append(path)\n",
        "#     return paths\n",
        "def get_diff_details(old_id: str, new_id: str, restic_repo: str) -> dict:\n",
        "    \"\"\"\n",
        "    Parse `restic diff old new` and return categorized path lists.\n",
        "    Supports both 'A/M/R/U path' and '+/- path' formats.\n",
        "    \"\"\"\n",
        "    proc = run([\"restic\", \"-r\", restic_repo, \"diff\", old_id, new_id])\n",
        "\n",
        "    added, modified, removed, meta = [], [], [], []\n",
        "\n",
        "    for raw in proc.stdout.splitlines():\n",
        "        line = raw.strip()\n",
        "        if not line:\n",
        "            continue\n",
        "        # Skip headers/summaries\n",
        "        if \":\" in line and line.split(\":\", 1)[0].lower() in {\n",
        "            \"comparing\", \"files\", \"dirs\", \"added files\", \"removed files\",\n",
        "            \"modified files\", \"added dirs\", \"removed dirs\", \"modified dirs\"\n",
        "        }:\n",
        "            continue\n",
        "\n",
        "        # Format 1: \"A path\", \"M path\", \"R path\", \"U path\"\n",
        "        m = re.match(r\"^([AMRU])\\s+(.+)$\", line)\n",
        "        if m:\n",
        "            code, path = m.group(1), m.group(2)\n",
        "            if code == \"A\": added.append(path)\n",
        "            elif code == \"M\": modified.append(path)\n",
        "            elif code == \"R\": removed.append(path)\n",
        "            elif code == \"U\": meta.append(path)\n",
        "            continue\n",
        "\n",
        "        # Format 2: \"+ path\" (added), \"- path\" (removed)\n",
        "        m = re.match(r\"^([+\\-])\\s+(.+)$\", line)\n",
        "        if m:\n",
        "            code, path = m.group(1), m.group(2)\n",
        "            if code == \"+\": added.append(path)\n",
        "            elif code == \"-\": removed.append(path)\n",
        "            continue\n",
        "\n",
        "        # If we reach here it's an unrecognized line; ignore\n",
        "        # print(\"DEBUG unparsed diff line:\", line)\n",
        "\n",
        "    return {\"added\": added, \"modified\": modified, \"removed\": removed, \"meta\": meta}\n"
      ],
      "metadata": {
        "id": "PKq5Jr8pzmK2"
      },
      "execution_count": null,
      "outputs": []
    },
    {
      "cell_type": "code",
      "source": [
        "def ensure_baseline_snapshot(data_dir: str, restic_repo: str) -> None:\n",
        "    \"\"\"\n",
        "    1) If no baseline exists, take one and return.\n",
        "    2) Otherwise:\n",
        "         a) Record old_id = latest baseline snapshot.\n",
        "         b) Run `restic backup --tag baseline` to create new snapshot.\n",
        "         c) Let new_id = ID of that new snapshot.\n",
        "         d) Call get_diff_files(old_id, new_id):\n",
        "            • if empty → forget/prune new_id (skip)\n",
        "            • else    → print_changed_files(paths) and keep new_id\n",
        "    \"\"\"\n",
        "    # 1) List existing baselines, pick latest by timestamp\n",
        "    proc0 = run([\"restic\", \"-r\", restic_repo, \"snapshots\", \"--tag\", \"baseline\", \"--json\"])\n",
        "    snaps = json.loads(proc0.stdout)\n",
        "    snaps.sort(key=lambda s: s[\"time\"])\n",
        "    if not snaps:\n",
        "        print(\"📦 No baseline found — creating initial baseline.\")\n",
        "        run([\"restic\", \"-r\", restic_repo, \"backup\", data_dir, \"--tag\", \"baseline\"])\n",
        "        print(f\"✅ Baseline created at {datetime.now().isoformat()}\")\n",
        "        return\n",
        "\n",
        "    old_id = snaps[-1][\"short_id\"]\n",
        "\n",
        "    # 2) Create the new snapshot\n",
        "    print(\"⏳ Running backup to test for real changes…\")\n",
        "    proc = run([\"restic\", \"-r\", restic_repo, \"backup\", data_dir, \"--tag\", \"baseline\", \"--json\"])\n",
        "    # parse the summary JSON for new_id\n",
        "    new_id = None\n",
        "    for line in proc.stdout.splitlines():\n",
        "        try:\n",
        "            msg = json.loads(line)\n",
        "        except json.JSONDecodeError:\n",
        "            continue\n",
        "        if msg.get(\"message_type\") == \"summary\":\n",
        "            new_id = msg[\"snapshot_id\"]\n",
        "            break\n",
        "    if new_id is None:\n",
        "        raise RuntimeError(\"Could not find summary in restic JSON output\")\n",
        "\n",
        "    # 3) Diff old→new to get the **true** list of changed files\n",
        "    # changed = get_diff_files(old_id, new_id, restic_repo)\n",
        "    # if not changed:\n",
        "    diff = get_diff_details(old_id, new_id, restic_repo)\n",
        "    changed_count = sum(len(v) for v in diff.values())\n",
        "    if changed_count == 0:\n",
        "        print(f\"⚠️ No real file-tree changes; forgetting baseline {new_id}\")\n",
        "        run([\"restic\", \"-r\", restic_repo, \"forget\", new_id, \"--prune\"])\n",
        "        print(\"✅ Skipped baseline (no real changes).\")\n",
        "    else:\n",
        "        print(f\"✅ Real changes detected ({changed_count} paths); keeping {new_id}\")\n",
        "        print_diff_details(diff)\n"
      ],
      "metadata": {
        "id": "wPBaIfdJwf1t"
      },
      "execution_count": null,
      "outputs": []
    },
    {
      "cell_type": "markdown",
      "source": [
        "##Step 6: Define Periodic Baseline Scheduler"
      ],
      "metadata": {
        "id": "ZFeC0xxcETr2"
      }
    },
    {
      "cell_type": "code",
      "source": [
        "import threading\n",
        "import time\n",
        "\n",
        "def start_periodic_baseline(data_dir: str, restic_repo: str, interval: int = 30):\n",
        "    \"\"\"\n",
        "    Spawns a background thread that re-tags the latest state as a new baseline\n",
        "    every `interval` seconds by calling ensure_baseline_snapshot().\n",
        "    \"\"\"\n",
        "    def loop():\n",
        "        while True:\n",
        "            ensure_baseline_snapshot(data_dir, restic_repo)\n",
        "            time.sleep(interval)\n",
        "\n",
        "    t = threading.Thread(target=loop, daemon=True)\n",
        "    t.start()\n",
        "    print()\n",
        "    print(f\"🕒 Started periodic baseline thread (every {interval}s)\")\n",
        "\n",
        "start_periodic_baseline(DATA_DIR, RESTIC_REPO, interval=30)\n",
        "time.sleep(5)"
      ],
      "metadata": {
        "id": "FqI_9DuwEYYm"
      },
      "execution_count": null,
      "outputs": []
    },
    {
      "cell_type": "markdown",
      "source": [
        "##Step 7: Define Helper to Restore Latest Baseline Snapshot that is Readable"
      ],
      "metadata": {
        "id": "3ccRa7m6FZTm"
      }
    },
    {
      "cell_type": "code",
      "source": [
        "import subprocess\n",
        "import os\n",
        "import pathlib\n",
        "import shutil\n",
        "import sys\n",
        "import json\n",
        "import tempfile\n",
        "from datetime import datetime\n",
        "\n",
        "def restore_latest_clean_baseline(restic_repo: str, restore_dir: str):\n",
        "    \"\"\"\n",
        "    Attempts to restore the latest clean baseline snapshot.\n",
        "    Iterates through snapshots tagged 'baseline' in reverse chronological order,\n",
        "    restores to a temporary directory, verifies critical files, moves data,\n",
        "    and returns the restored snapshot ID.\n",
        "    \"\"\"\n",
        "    print(\"🔍 Searching for clean baseline snapshots...\")\n",
        "\n",
        "    # 1. List baseline snapshots\n",
        "    try:\n",
        "        proc = subprocess.run(\n",
        "            [\"restic\", \"-r\", restic_repo, \"snapshots\", \"--tag\", \"baseline\", \"--json\"],\n",
        "            capture_output=True, text=True, check=True, env=os.environ\n",
        "        )\n",
        "        snapshots = json.loads(proc.stdout)\n",
        "    except subprocess.CalledProcessError as e:\n",
        "        print(\"❌ Failed to list baseline snapshots:\", e.stderr.strip(), file=sys.stderr)\n",
        "        return False, None\n",
        "\n",
        "    if not snapshots:\n",
        "        print(\"❌ No baseline snapshots found.\")\n",
        "        return False, None\n",
        "\n",
        "    # 2. Sort by timestamp descending\n",
        "    for snap in snapshots:\n",
        "        snap[\"parsed_time\"] = datetime.fromisoformat(snap[\"time\"].rstrip(\"Z\"))\n",
        "    snapshots.sort(key=lambda s: s[\"parsed_time\"], reverse=True)\n",
        "\n",
        "    restore_path = pathlib.Path(restore_dir)\n",
        "    tmp_root = pathlib.Path(tempfile.mkdtemp(prefix=\"restic_tmp_\"))\n",
        "\n",
        "    try:\n",
        "        # 3. Try each snapshot until valid\n",
        "        for snap in snapshots:\n",
        "            sid = snap[\"id\"]\n",
        "            print(f\"🕵️ Trying snapshot {sid}...\")\n",
        "\n",
        "            tmp_dir = tmp_root / sid\n",
        "            if tmp_dir.exists():\n",
        "                shutil.rmtree(tmp_dir)\n",
        "            tmp_dir.mkdir(parents=True)\n",
        "\n",
        "            # Restore\n",
        "            try:\n",
        "                subprocess.run(\n",
        "                    [\"restic\", \"-r\", restic_repo, \"restore\", sid, \"--target\", str(tmp_dir)],\n",
        "                    capture_output=True, text=True, check=True\n",
        "                )\n",
        "            except subprocess.CalledProcessError as e:\n",
        "                print(f\"⚠️ Restore failed for {sid}: {e.stderr.strip()}\")\n",
        "                continue\n",
        "\n",
        "            # Locate victim_data\n",
        "            victim_dirs = list(tmp_dir.rglob(\"victim_data\"))\n",
        "            if not victim_dirs:\n",
        "                print(f\"❌ victim_data not found in {sid}\")\n",
        "                continue\n",
        "            victim_path = victim_dirs[0]\n",
        "\n",
        "            # Verify critical file readability\n",
        "            critical = victim_path / \"docs\" / \"report_Q1.txt\"\n",
        "            if not critical.exists():\n",
        "                print(f\"❌ report_Q1.txt missing in {sid}\")\n",
        "                continue\n",
        "            try:\n",
        "                with open(critical, 'r') as f:\n",
        "                    f.read(1)\n",
        "            except Exception as e:\n",
        "                print(f\"❌ Cannot read report_Q1.txt in {sid}: {e}\")\n",
        "                continue\n",
        "\n",
        "            # 4. Prepare restore_dir\n",
        "            if restore_path.exists():\n",
        "                shutil.rmtree(restore_path)\n",
        "            restore_path.mkdir(parents=True)\n",
        "\n",
        "            # Move contents\n",
        "            for item in tmp_dir.iterdir():\n",
        "                shutil.move(str(item), str(restore_path / item.name))\n",
        "\n",
        "            print(f\"✅ Restored clean baseline {sid} into {restore_dir}\")\n",
        "            return True, sid\n",
        "\n",
        "        print(\"❌ No clean baseline snapshot found.\")\n",
        "        return False, None\n",
        "\n",
        "    finally:\n",
        "        shutil.rmtree(tmp_root)"
      ],
      "metadata": {
        "id": "qUZaaqaCn20d"
      },
      "execution_count": null,
      "outputs": []
    },
    {
      "cell_type": "markdown",
      "source": [
        "##Step 8: 30 Seconds Pause"
      ],
      "metadata": {
        "id": "p5a4og-i79sJ"
      }
    },
    {
      "cell_type": "code",
      "source": [
        "import time, subprocess, os\n",
        "print(\"⌛ Sleeping 30 s so real‑time activity accumulates …\")\n",
        "time.sleep(30)\n",
        "print_current_snapshots(RESTIC_REPO)"
      ],
      "metadata": {
        "id": "Q-_up1L08Js3"
      },
      "execution_count": null,
      "outputs": []
    },
    {
      "cell_type": "markdown",
      "source": [
        "##Step 8: Create a Unique Text File to Validate the Accuracy of Baseline Function"
      ],
      "metadata": {
        "id": "sMUEUNP7-SUx"
      }
    },
    {
      "cell_type": "code",
      "source": [
        "# 1. Show current baselines\n",
        "print(\"▶️ Before Adding File:\")\n",
        "print_current_snapshots(RESTIC_REPO)\n",
        "\n",
        "# 2. Create a dummy change\n",
        "new_file = os.path.join(DATA_DIR, f\"verify_{int(time.time())}.txt\")\n",
        "with open(new_file, \"w\") as f:\n",
        "    f.write(\"trigger baseline\\n\")\n",
        "\n",
        "print(f\"📝 Created: {new_file}\")"
      ],
      "metadata": {
        "id": "9FEhkTRNma9p"
      },
      "execution_count": null,
      "outputs": []
    },
    {
      "cell_type": "code",
      "source": [
        "%%bash\n",
        "VICTIM_PATH=\"/content/drive/MyDrive/ransomware_lab/victim_data\"\n",
        "tree -h \"$VICTIM_PATH\""
      ],
      "metadata": {
        "id": "EyNUKTIoG0a4"
      },
      "execution_count": null,
      "outputs": []
    },
    {
      "cell_type": "code",
      "source": [
        "time.sleep(15)\n",
        "# 3. Show baselines again\n",
        "print(\"▶️ After Adding File and Before Deleting File:\")\n",
        "print_current_snapshots(RESTIC_REPO)"
      ],
      "metadata": {
        "id": "d3vf57IHmiqp"
      },
      "execution_count": null,
      "outputs": []
    },
    {
      "cell_type": "code",
      "source": [
        "import os, glob, json, time\n",
        "matches = glob.glob(os.path.join(DATA_DIR, \"verify_*.txt\"))\n",
        "if not matches:\n",
        "    print(\"❌ No verify_*.txt found. Create one first, then rerun.\")\n",
        "else:\n",
        "  target = max(matches, key=os.path.getmtime)\n",
        "  rel = os.path.relpath(target, DATA_DIR)\n",
        "  print(f\"🗂️ Target file to delete: {rel}\")\n",
        "  #Delete the file\n",
        "  os.remove(target)\n",
        "  print(f\"🗑️ Deleted: {rel}\")"
      ],
      "metadata": {
        "id": "YRrSEehsEPax"
      },
      "execution_count": null,
      "outputs": []
    },
    {
      "cell_type": "code",
      "source": [
        "%%bash\n",
        "VICTIM_PATH=\"/content/drive/MyDrive/ransomware_lab/victim_data\"\n",
        "tree -h \"$VICTIM_PATH\""
      ],
      "metadata": {
        "id": "L2hwR--GHCFV"
      },
      "execution_count": null,
      "outputs": []
    },
    {
      "cell_type": "code",
      "source": [
        "time.sleep(15)\n",
        "print(\"▶️ After Deleting File:\")\n",
        "print_current_snapshots(RESTIC_REPO)"
      ],
      "metadata": {
        "id": "Jq0aVrukFXnn"
      },
      "execution_count": null,
      "outputs": []
    },
    {
      "cell_type": "markdown",
      "source": [
        "##Step 9: Simulate Ransomware attack"
      ],
      "metadata": {
        "id": "ydAstZS6wjcF"
      }
    },
    {
      "cell_type": "markdown",
      "source": [
        "###Define Helper to Mark Simulated Ransomware Attack in Snapshots"
      ],
      "metadata": {
        "id": "40LAUYiEI9w6"
      }
    },
    {
      "cell_type": "code",
      "source": [
        "import subprocess, os\n",
        "\n",
        "def mark_attack_snapshot(data_dir: str, restic_repo: str):\n",
        "    \"\"\"\n",
        "    Takes a Restic backup of data_dir and tags it 'attack' to mark\n",
        "    the moment of the simulated ransomware event.\n",
        "    \"\"\"\n",
        "    common_args = [\"restic\", \"--repo\", restic_repo]\n",
        "    print(\"⚠️  Ransomware attack simulated — taking 'attack' snapshot…\")\n",
        "    subprocess.run(\n",
        "        common_args + [\"backup\", data_dir, \"--tag\", \"attack\"],\n",
        "        check=True, env=os.environ\n",
        "    )\n",
        "    print(\"✅  'attack' snapshot complete.\")"
      ],
      "metadata": {
        "id": "dkzcMmLqJQSJ"
      },
      "execution_count": null,
      "outputs": []
    },
    {
      "cell_type": "markdown",
      "source": [
        "###Encrypt the files and Simulate Attack"
      ],
      "metadata": {
        "id": "tOtofpB7J5lm"
      }
    },
    {
      "cell_type": "code",
      "source": [
        "%%bash -s \"$DATA_DIR\"\n",
        "VICTIM=$1\n",
        "# Encrypt *.txt as a stand‑in for ransomware, then delete originals\n",
        "cd \"$VICTIM/docs\"\n",
        "for f in *.txt; do\n",
        "  openssl enc -aes-256-cbc -md sha256 -salt -in \"$f\" -out \"${f}.enc\" -pass pass:evil123\n",
        "  shred -u \"$f\"\n",
        "done\n",
        "echo \"After attack:\"\n",
        "tree -h \"$VICTIM\""
      ],
      "metadata": {
        "id": "R55dkZqZ9Awv"
      },
      "execution_count": null,
      "outputs": []
    },
    {
      "cell_type": "code",
      "source": [
        "##mark the attack in Restic\n",
        "mark_attack_snapshot(DATA_DIR, RESTIC_REPO)"
      ],
      "metadata": {
        "id": "sD8JreW4eoRd"
      },
      "execution_count": null,
      "outputs": []
    },
    {
      "cell_type": "code",
      "source": [
        "print_current_snapshots(RESTIC_REPO)"
      ],
      "metadata": {
        "id": "dQHv-RxSKNKj"
      },
      "execution_count": null,
      "outputs": []
    },
    {
      "cell_type": "markdown",
      "source": [
        "##Step 10: Attempt to Read\n",
        "Will fail"
      ],
      "metadata": {
        "id": "y4jhKPX7woC5"
      }
    },
    {
      "cell_type": "code",
      "source": [
        "import pathlib, sys\n",
        "\n",
        "plaintext = pathlib.Path(DATA_DIR) / \"docs\" / \"report_Q1.txt\"   # original file path\n",
        "\n",
        "try:\n",
        "    text = plaintext.read_text()          # should raise FileNotFoundError\n",
        "    print(\"❌  UNEXPECTED: plaintext still readable!\", text[:100])\n",
        "    sys.exit(1)\n",
        "except (FileNotFoundError, PermissionError):\n",
        "    print(\"✅  Expected failure: plaintext is gone or unreadable — ransomware succeeded.\")"
      ],
      "metadata": {
        "id": "7YVOrUoY8x6D"
      },
      "execution_count": null,
      "outputs": []
    },
    {
      "cell_type": "markdown",
      "source": [
        "##Step 11: Restore the Latest Clean Snapshot"
      ],
      "metadata": {
        "id": "xm9WBmhOwutv"
      }
    },
    {
      "cell_type": "code",
      "source": [
        "#List all snapshots\n",
        "print_current_snapshots(RESTIC_REPO)"
      ],
      "metadata": {
        "id": "bwUKOxCyERNs"
      },
      "execution_count": null,
      "outputs": []
    },
    {
      "cell_type": "code",
      "source": [
        "success, restored_id = restore_latest_clean_baseline(RESTIC_REPO, RESTORE_DIR)"
      ],
      "metadata": {
        "id": "cx2wu0yDGzPb"
      },
      "execution_count": null,
      "outputs": []
    },
    {
      "cell_type": "markdown",
      "source": [
        "##Step 12: Verify Restored File Exists and Matches Expected Content"
      ],
      "metadata": {
        "id": "mEWjE2jA-Lhm"
      }
    },
    {
      "cell_type": "code",
      "source": [
        "%%bash\n",
        "# 1. Point to your restore directory\n",
        "export RESTORE_DIR=\"/content/drive/MyDrive/ransomware_lab/restore\"\n",
        "\n",
        "# 2. Locate the nested victim_data folder\n",
        "VICTIM_PATH=$(find \"$RESTORE_DIR\" -type d -name victim_data | head -n1)\n",
        "if [ -z \"$VICTIM_PATH\" ]; then\n",
        "  echo \"❌ Could not find victim_data under $RESTORE_DIR\"\n",
        "  exit 1\n",
        "fi\n",
        "\n",
        "echo \"✅ Restored data is at: $VICTIM_PATH\"\n",
        "\n",
        "# 3. List the docs you recovered\n",
        "echo; echo \"Recovered docs:\"\n",
        "tree -h \"$VICTIM_PATH/docs\" | sed -n '1,5p'\n",
        "\n",
        "# 4. Show the contents of report_Q1.txt\n",
        "echo; echo \"Contents of report_Q1.txt:\"\n",
        "cat \"$VICTIM_PATH/docs/report_Q1.txt\""
      ],
      "metadata": {
        "id": "eRHBle5PHGjZ"
      },
      "execution_count": null,
      "outputs": []
    },
    {
      "cell_type": "code",
      "source": [
        "import pathlib, hashlib, sys\n",
        "\n",
        "# Adjust this to your actual restore path variable if needed\n",
        "restore_root = pathlib.Path(RESTORE_DIR)\n",
        "victim = next(restore_root.rglob(\"victim_data\"), None)\n",
        "if victim is None:\n",
        "    print(\"❌  victim_data not found!\"); sys.exit(1)\n",
        "\n",
        "file = victim / \"docs\" / \"report_Q1.txt\"\n",
        "if not file.exists():\n",
        "    print(\"❌  report_Q1.txt missing!\"); sys.exit(1)\n",
        "\n",
        "content = file.read_text()\n",
        "assert \"Quarterly revenue: $123,456\" in content, \"Content mismatch!\"\n",
        "\n",
        "sha = hashlib.sha256(file.read_bytes()).hexdigest()\n",
        "print(f\"✅  report_Q1.txt verified — SHA‑256: {sha[:12]}…\")"
      ],
      "metadata": {
        "id": "9orVPqZO-QaS"
      },
      "execution_count": null,
      "outputs": []
    },
    {
      "cell_type": "markdown",
      "source": [
        "##Step 13: Compare Original to Restored\n",
        "Sanity Check"
      ],
      "metadata": {
        "id": "7LM9aVFqw3qY"
      }
    },
    {
      "cell_type": "code",
      "source": [
        "%%bash -s \"$DATA_DIR\" \"$RESTORE_DIR\"\n",
        "# $1 is the live data dir, $2 is where Restic put your restore tree\n",
        "ORIG=\"$1\"\n",
        "RESTORE_ROOT=\"$2\"\n",
        "\n",
        "# 2. Locate the restored victim_data under RESTORE_ROOT\n",
        "RESTORED_V=$(find \"$RESTORE_ROOT\" -type d -name victim_data | head -n1)\n",
        "if [ -z \"$RESTORED_V\" ]; then\n",
        "  echo \"❌  Could not find victim_data under $RESTORE_ROOT\"\n",
        "  exit 1\n",
        "fi\n",
        "\n",
        "echo \"✅  Restored data is at: $RESTORED_V\"\n",
        "echo\n",
        "\n",
        "# 3. Compare original vs restored\n",
        "echo \"Comparing live vs restored:\"\n",
        "echo \"  live:     $ORIG\"\n",
        "echo \"  restored: $RESTORED_V\"\n",
        "echo\n",
        "\n",
        "diff -rq \"$ORIG\" \"$RESTORED_V\" \\\n",
        "  && echo \"✅  No unexpected differences.\" \\\n",
        "  || echo \"🔶  Differences above are expected for encrypted docs.\""
      ],
      "metadata": {
        "id": "StnGbId0IeXF"
      },
      "execution_count": null,
      "outputs": []
    },
    {
      "cell_type": "markdown",
      "source": [
        "##Optional: Prune Workspace\n",
        "* Locating the deepest nested 'victim_data' directory inside restore_root\n",
        "* Removing any '.enc' encrypted files\n",
        "* Moving the restored data to the original victim_data_path\n",
        "* Deleting all contents of the restore_root directory"
      ],
      "metadata": {
        "id": "6MBEGDt3KIhe"
      }
    },
    {
      "cell_type": "code",
      "source": [
        "import os\n",
        "import shutil\n",
        "import pathlib\n",
        "\n",
        "def finalize_restoration(restore_root: str, victim_data_path: str):\n",
        "    restore_root = pathlib.Path(restore_root)\n",
        "    victim_data_path = pathlib.Path(victim_data_path)\n",
        "\n",
        "    # Locate the deepest nested victim_data directory\n",
        "    nested_victim_dirs = sorted(restore_root.rglob(\"victim_data\"), key=lambda p: len(str(p)), reverse=True)\n",
        "    if not nested_victim_dirs:\n",
        "        print(\"❌ No victim_data directory found in restore root.\")\n",
        "        return False\n",
        "\n",
        "    restored_victim = nested_victim_dirs[0]\n",
        "    print(f\"✅ Found restored victim_data at: {restored_victim}\")\n",
        "\n",
        "    # Remove encrypted files\n",
        "    for enc_file in restored_victim.rglob(\"*.enc\"):\n",
        "        try:\n",
        "            enc_file.unlink()\n",
        "            print(f\"🗑️ Deleted encrypted file: {enc_file}\")\n",
        "        except Exception as e:\n",
        "            print(f\"⚠️ Failed to delete {enc_file}: {e}\")\n",
        "\n",
        "    # Replace original victim_data with restored version\n",
        "    if victim_data_path.exists():\n",
        "        shutil.rmtree(victim_data_path)\n",
        "    shutil.copytree(restored_victim, victim_data_path)\n",
        "    print(f\"📦 Moved restored data to: {victim_data_path}\")\n",
        "\n",
        "    # Delete all contents of the restore_root directory\n",
        "    for item in restore_root.iterdir():\n",
        "        try:\n",
        "            if item.is_dir():\n",
        "                shutil.rmtree(item)\n",
        "            else:\n",
        "                item.unlink()\n",
        "            print(f\"🧹 Deleted: {item}\")\n",
        "        except Exception as e:\n",
        "            print(f\"⚠️ Failed to delete {item}: {e}\")\n",
        "\n",
        "    return True"
      ],
      "metadata": {
        "id": "Ylw3klTuT7hN"
      },
      "execution_count": null,
      "outputs": []
    },
    {
      "cell_type": "code",
      "source": [
        "if success:\n",
        "  finalize_restoration(\n",
        "      restore_root=RESTORE_DIR,\n",
        "      victim_data_path=DATA_DIR\n",
        "  )"
      ],
      "metadata": {
        "id": "CL4eYtP-k-JG"
      },
      "execution_count": null,
      "outputs": []
    },
    {
      "cell_type": "code",
      "source": [
        "%%bash\n",
        "#!/bin/bash\n",
        "\n",
        "# Define the root directory\n",
        "VICTIM_PATH=\"/content/drive/MyDrive/ransomware_lab/victim_data\"\n",
        "RESTORE_PATH=\"/content/drive/MyDrive/ransomware_lab/restore\"\n",
        "\n",
        "# Check if the directory exists\n",
        "if [ ! -d \"$VICTIM_PATH\" ]; then\n",
        "  echo \"❌ Directory not found: $VICTIM_PATH\"\n",
        "  exit 1\n",
        "fi\n",
        "if [ ! -d \"$RESTORE_PATH\" ]; then\n",
        "  echo \"❌ Directory not found: $RESTORE_PATH\"\n",
        "  exit 1\n",
        "fi\n",
        "\n",
        "# Print the tree with human-readable sizes\n",
        "echo \"📁 Directory tree for: $VICTIM_PATH\"\n",
        "echo\n",
        "\n",
        "tree -h \"$VICTIM_PATH\"\n",
        "# Print the tree with human-readable sizes\n",
        "echo \"📁 Directory tree for: $RESTORE_PATH\"\n",
        "echo\n",
        "\n",
        "tree -h \"$RESTORE_PATH\""
      ],
      "metadata": {
        "id": "UF3df1qWpGSZ"
      },
      "execution_count": null,
      "outputs": []
    }
  ]
}