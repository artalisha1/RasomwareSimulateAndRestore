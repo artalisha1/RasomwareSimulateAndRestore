{
  "nbformat": 4,
  "nbformat_minor": 0,
  "metadata": {
    "colab": {
      "provenance": [],
      "collapsed_sections": [
        "eAtXuzDXwJes",
        "3J1LYmIlwNT_",
        "dGa8lunBwTk3",
        "2tqWmPImBFUS",
        "PePgx-KWfSc-",
        "aQu3lepQ7eO1",
        "ejat6OWg60nR",
        "ZFeC0xxcETr2"
      ]
    },
    "kernelspec": {
      "name": "python3",
      "display_name": "Python 3"
    },
    "language_info": {
      "name": "python"
    }
  },
  "cells": [
    {
      "cell_type": "markdown",
      "source": [
        "#Restic Ransomware Simulation & Auto‑Recovery Lab"
      ],
      "metadata": {
        "id": "iL8FvSkw9Qs-"
      }
    },
    {
      "cell_type": "markdown",
      "source": [
        "Integrates automated Restic snapshots, simulates a ransomware attack, and then verifies and restores the latest clean baseline—all without manual intervention."
      ],
      "metadata": {
        "id": "mYoKGNR7-6-v"
      }
    },
    {
      "cell_type": "markdown",
      "source": [
        "##Summary\n",
        "\n",
        "This notebook spins up a self‑contained playground that\n",
        "\n",
        "* sets up a Restic repo and captures an initial **baseline** snapshot\n",
        "* launches a watchdog that backs up every file‑close (`--tag auto`)\n",
        "  plus a background producer that keeps writing fresh log files\n",
        "* runs a periodic scheduler that re‑tags the latest state as a new baseline\n",
        "* simulates a ransomware attack by encrypting docs and tagging an **attack** snapshot\n",
        "* automatically finds the latest *readable* baseline, restores it, verifies\n",
        "  key files, and swaps the clean data back into place—deleting malicious\n",
        "  artifacts and pruning old logs."
      ],
      "metadata": {
        "id": "kHrFyLw69RoT"
      }
    },
    {
      "cell_type": "markdown",
      "source": [
        "##Step 0: Persist everything to Google Drive"
      ],
      "metadata": {
        "id": "eAtXuzDXwJes"
      }
    },
    {
      "cell_type": "code",
      "execution_count": 1,
      "metadata": {
        "colab": {
          "base_uri": "https://localhost:8080/"
        },
        "id": "2yleD2UMvt-U",
        "outputId": "95efaa2f-43ec-4af4-8b61-4338c1409e8d"
      },
      "outputs": [
        {
          "output_type": "stream",
          "name": "stdout",
          "text": [
            "Mounted at /content/drive\n"
          ]
        }
      ],
      "source": [
        "from google.colab import drive\n",
        "drive.mount('/content/drive')          # Skip this cell if you don't need persistence\n",
        "\n",
        "# Choose a root dir that survives VM resets if you mounted Drive\n",
        "ROOT = \"/content/drive/MyDrive/ransomware_lab\"  # or \"/content\" if Drive not mounted\n",
        "!mkdir -p $ROOT"
      ]
    },
    {
      "cell_type": "markdown",
      "source": [
        "##Step 1: Install Tools"
      ],
      "metadata": {
        "id": "3J1LYmIlwNT_"
      }
    },
    {
      "cell_type": "code",
      "source": [
        "%%bash\n",
        "sudo apt-get update -qq\n",
        "sudo apt-get install -y restic gnupg tree"
      ],
      "metadata": {
        "colab": {
          "base_uri": "https://localhost:8080/"
        },
        "id": "UtcAI7cDv4ui",
        "outputId": "4750e09c-2b8b-4910-de23-21fe9b186e44"
      },
      "execution_count": 2,
      "outputs": [
        {
          "output_type": "stream",
          "name": "stdout",
          "text": [
            "Reading package lists...\n",
            "Building dependency tree...\n",
            "Reading state information...\n",
            "gnupg is already the newest version (2.2.27-3ubuntu2.4).\n",
            "gnupg set to manually installed.\n",
            "Suggested packages:\n",
            "  sphinx-rtd-theme-common\n",
            "The following NEW packages will be installed:\n",
            "  restic tree\n",
            "0 upgraded, 2 newly installed, 0 to remove and 35 not upgraded.\n",
            "Need to get 7,439 kB of archives.\n",
            "After this operation, 20.4 MB of additional disk space will be used.\n",
            "Get:1 http://archive.ubuntu.com/ubuntu jammy/universe amd64 tree amd64 2.0.2-1 [47.9 kB]\n",
            "Get:2 http://archive.ubuntu.com/ubuntu jammy-updates/universe amd64 restic amd64 0.12.1-2ubuntu0.3 [7,391 kB]\n",
            "Fetched 7,439 kB in 1s (7,067 kB/s)\n",
            "Selecting previously unselected package tree.\r\n",
            "(Reading database ... \r(Reading database ... 5%\r(Reading database ... 10%\r(Reading database ... 15%\r(Reading database ... 20%\r(Reading database ... 25%\r(Reading database ... 30%\r(Reading database ... 35%\r(Reading database ... 40%\r(Reading database ... 45%\r(Reading database ... 50%\r(Reading database ... 55%\r(Reading database ... 60%\r(Reading database ... 65%\r(Reading database ... 70%\r(Reading database ... 75%\r(Reading database ... 80%\r(Reading database ... 85%\r(Reading database ... 90%\r(Reading database ... 95%\r(Reading database ... 100%\r(Reading database ... 126284 files and directories currently installed.)\r\n",
            "Preparing to unpack .../tree_2.0.2-1_amd64.deb ...\r\n",
            "Unpacking tree (2.0.2-1) ...\r\n",
            "Selecting previously unselected package restic.\r\n",
            "Preparing to unpack .../restic_0.12.1-2ubuntu0.3_amd64.deb ...\r\n",
            "Unpacking restic (0.12.1-2ubuntu0.3) ...\r\n",
            "Setting up restic (0.12.1-2ubuntu0.3) ...\r\n",
            "Setting up tree (2.0.2-1) ...\r\n",
            "Processing triggers for man-db (2.10.2-1) ...\r\n"
          ]
        },
        {
          "output_type": "stream",
          "name": "stderr",
          "text": [
            "W: Skipping acquire of configured file 'main/source/Sources' as repository 'https://r2u.stat.illinois.edu/ubuntu jammy InRelease' does not seem to provide it (sources.list entry misspelt?)\n",
            "debconf: unable to initialize frontend: Dialog\n",
            "debconf: (No usable dialog-like program is installed, so the dialog based frontend cannot be used. at /usr/share/perl5/Debconf/FrontEnd/Dialog.pm line 78, <> line 2.)\n",
            "debconf: falling back to frontend: Readline\n",
            "debconf: unable to initialize frontend: Readline\n",
            "debconf: (This frontend requires a controlling tty.)\n",
            "debconf: falling back to frontend: Teletype\n",
            "dpkg-preconfigure: unable to re-open stdin: \n"
          ]
        }
      ]
    },
    {
      "cell_type": "code",
      "source": [
        "#Install extra utilities\n",
        "%%bash\n",
        "sudo apt-get install -y inotify-tools   # for near real‑time backup\n",
        "pip install --quiet watchdog            # Python file‑watcher library"
      ],
      "metadata": {
        "colab": {
          "base_uri": "https://localhost:8080/"
        },
        "id": "go0DxgCi4M6E",
        "outputId": "4c66d643-436b-49f9-ffab-546956d1f2bd"
      },
      "execution_count": 3,
      "outputs": [
        {
          "output_type": "stream",
          "name": "stdout",
          "text": [
            "Reading package lists...\n",
            "Building dependency tree...\n",
            "Reading state information...\n",
            "The following additional packages will be installed:\n",
            "  libinotifytools0\n",
            "The following NEW packages will be installed:\n",
            "  inotify-tools libinotifytools0\n",
            "0 upgraded, 2 newly installed, 0 to remove and 35 not upgraded.\n",
            "Need to get 54.8 kB of archives.\n",
            "After this operation, 233 kB of additional disk space will be used.\n",
            "Get:1 http://archive.ubuntu.com/ubuntu jammy/universe amd64 libinotifytools0 amd64 3.22.1.0-2 [22.6 kB]\n",
            "Get:2 http://archive.ubuntu.com/ubuntu jammy/universe amd64 inotify-tools amd64 3.22.1.0-2 [32.2 kB]\n",
            "Fetched 54.8 kB in 0s (145 kB/s)\n",
            "Selecting previously unselected package libinotifytools0:amd64.\r\n",
            "(Reading database ... \r(Reading database ... 5%\r(Reading database ... 10%\r(Reading database ... 15%\r(Reading database ... 20%\r(Reading database ... 25%\r(Reading database ... 30%\r(Reading database ... 35%\r(Reading database ... 40%\r(Reading database ... 45%\r(Reading database ... 50%\r(Reading database ... 55%\r(Reading database ... 60%\r(Reading database ... 65%\r(Reading database ... 70%\r(Reading database ... 75%\r(Reading database ... 80%\r(Reading database ... 85%\r(Reading database ... 90%\r(Reading database ... 95%\r(Reading database ... 100%\r(Reading database ... 126424 files and directories currently installed.)\r\n",
            "Preparing to unpack .../libinotifytools0_3.22.1.0-2_amd64.deb ...\r\n",
            "Unpacking libinotifytools0:amd64 (3.22.1.0-2) ...\r\n",
            "Selecting previously unselected package inotify-tools.\r\n",
            "Preparing to unpack .../inotify-tools_3.22.1.0-2_amd64.deb ...\r\n",
            "Unpacking inotify-tools (3.22.1.0-2) ...\r\n",
            "Setting up libinotifytools0:amd64 (3.22.1.0-2) ...\r\n",
            "Setting up inotify-tools (3.22.1.0-2) ...\r\n",
            "Processing triggers for man-db (2.10.2-1) ...\r\n",
            "Processing triggers for libc-bin (2.35-0ubuntu3.8) ...\r\n",
            "/sbin/ldconfig.real: /usr/local/lib/libtbbbind.so.3 is not a symbolic link\r\n",
            "\r\n",
            "/sbin/ldconfig.real: /usr/local/lib/libur_adapter_level_zero.so.0 is not a symbolic link\r\n",
            "\r\n",
            "/sbin/ldconfig.real: /usr/local/lib/libur_adapter_level_zero_v2.so.0 is not a symbolic link\r\n",
            "\r\n",
            "/sbin/ldconfig.real: /usr/local/lib/libur_loader.so.0 is not a symbolic link\r\n",
            "\r\n",
            "/sbin/ldconfig.real: /usr/local/lib/libtbbbind_2_0.so.3 is not a symbolic link\r\n",
            "\r\n",
            "/sbin/ldconfig.real: /usr/local/lib/libtcm_debug.so.1 is not a symbolic link\r\n",
            "\r\n",
            "/sbin/ldconfig.real: /usr/local/lib/libumf.so.0 is not a symbolic link\r\n",
            "\r\n",
            "/sbin/ldconfig.real: /usr/local/lib/libtbbmalloc_proxy.so.2 is not a symbolic link\r\n",
            "\r\n",
            "/sbin/ldconfig.real: /usr/local/lib/libtbbbind_2_5.so.3 is not a symbolic link\r\n",
            "\r\n",
            "/sbin/ldconfig.real: /usr/local/lib/libtbb.so.12 is not a symbolic link\r\n",
            "\r\n",
            "/sbin/ldconfig.real: /usr/local/lib/libur_adapter_opencl.so.0 is not a symbolic link\r\n",
            "\r\n",
            "/sbin/ldconfig.real: /usr/local/lib/libtcm.so.1 is not a symbolic link\r\n",
            "\r\n",
            "/sbin/ldconfig.real: /usr/local/lib/libtbbmalloc.so.2 is not a symbolic link\r\n",
            "\r\n",
            "/sbin/ldconfig.real: /usr/local/lib/libhwloc.so.15 is not a symbolic link\r\n",
            "\r\n",
            "     ━━━━━━━━━━━━━━━━━━━━━━━━━━━━━━━━━━━━━━━━ 44.3/44.3 kB 3.8 MB/s eta 0:00:00\n",
            "   ━━━━━━━━━━━━━━━━━━━━━━━━━━━━━━━━━━━━━━━━ 79.1/79.1 kB 5.0 MB/s eta 0:00:00\n"
          ]
        },
        {
          "output_type": "stream",
          "name": "stderr",
          "text": [
            "debconf: unable to initialize frontend: Dialog\n",
            "debconf: (No usable dialog-like program is installed, so the dialog based frontend cannot be used. at /usr/share/perl5/Debconf/FrontEnd/Dialog.pm line 78, <> line 2.)\n",
            "debconf: falling back to frontend: Readline\n",
            "debconf: unable to initialize frontend: Readline\n",
            "debconf: (This frontend requires a controlling tty.)\n",
            "debconf: falling back to frontend: Teletype\n",
            "dpkg-preconfigure: unable to re-open stdin: \n"
          ]
        }
      ]
    },
    {
      "cell_type": "markdown",
      "source": [
        "##Step 2: Configure Restic Repo"
      ],
      "metadata": {
        "id": "lcIxuzC-wP8e"
      }
    },
    {
      "cell_type": "code",
      "source": [
        "import os, subprocess, textwrap, getpass, json, pathlib, shutil, time\n",
        "\n",
        "# Change these if you like\n",
        "DATA_DIR      = f\"{ROOT}/victim_data\"\n",
        "RESTIC_REPO   = f\"{ROOT}/backup_repo\"\n",
        "RESTORE_DIR   = f\"{ROOT}/restore\"\n",
        "os.makedirs(DATA_DIR,   exist_ok=True)\n",
        "os.makedirs(RESTORE_DIR, exist_ok=True)\n",
        "\n",
        "# One‑liner to set the repo password (DON'T lose it!)\n",
        "os.environ[\"RESTIC_PASSWORD\"] = \"colab‑demo‑super‑secret\"  # choose a strong one IRL\n",
        "\n",
        "# Initialize repository once\n",
        "if not pathlib.Path(RESTIC_REPO, \"config\").exists():\n",
        "    !restic -r $RESTIC_REPO init"
      ],
      "metadata": {
        "id": "ZY-5RjXgv6vw",
        "colab": {
          "base_uri": "https://localhost:8080/"
        },
        "outputId": "1c9d74c4-1eb1-47da-d058-db276f84ddf1"
      },
      "execution_count": 4,
      "outputs": [
        {
          "output_type": "stream",
          "name": "stdout",
          "text": [
            "created restic repository 7554385b3c at /content/drive/MyDrive/ransomware_lab/backup_repo\n",
            "\n",
            "Please note that knowledge of your password is required to access\n",
            "the repository. Losing your password means that your data is\n",
            "irrecoverably lost.\n"
          ]
        }
      ]
    },
    {
      "cell_type": "markdown",
      "source": [
        "##Step 3: Generate sample \"production\" files"
      ],
      "metadata": {
        "id": "dGa8lunBwTk3"
      }
    },
    {
      "cell_type": "code",
      "source": [
        "%%bash -s \"$DATA_DIR\"\n",
        "TARGET=$1\n",
        "mkdir -p \"$TARGET/docs\" \"$TARGET/images\"\n",
        "\n",
        "# simple text data\n",
        "echo \"Quarterly revenue: \\$123,456\"  > \"$TARGET/docs/report_Q1.txt\"\n",
        "echo \"User list (PII redacted)\"      > \"$TARGET/docs/users.txt\"\n",
        "\n",
        "# simulate binary data\n",
        "head -c 1M </dev/urandom > \"$TARGET/images/raw_sensor_dump.bin\"\n",
        "\n",
        "tree -h \"$TARGET\""
      ],
      "metadata": {
        "colab": {
          "base_uri": "https://localhost:8080/"
        },
        "id": "gaRCzmvqv_Ar",
        "outputId": "a289a5ff-aec8-4d71-c5d9-6519d296243e"
      },
      "execution_count": 5,
      "outputs": [
        {
          "output_type": "stream",
          "name": "stdout",
          "text": [
            "[4.0K]  /content/drive/MyDrive/ransomware_lab/victim_data\n",
            "├── [4.0K]  docs\n",
            "│   ├── [  28]  report_Q1.txt\n",
            "│   └── [  25]  users.txt\n",
            "└── [4.0K]  images\n",
            "    └── [1.0M]  raw_sensor_dump.bin\n",
            "\n",
            "2 directories, 3 files\n"
          ]
        }
      ]
    },
    {
      "cell_type": "markdown",
      "source": [
        "##Step 4: Define Helper to Print List of Snapshots"
      ],
      "metadata": {
        "id": "2tqWmPImBFUS"
      }
    },
    {
      "cell_type": "code",
      "source": [
        "import subprocess\n",
        "import sys\n",
        "import os\n",
        "\n",
        "def print_current_snapshots(restic_repo: str):\n",
        "    \"\"\"\n",
        "    Prints the list of snapshots in the specified Restic repository.\n",
        "    Relies on RESTIC_PASSWORD env var for authentication.\n",
        "    \"\"\"\n",
        "    common_args = [\"restic\", \"--repo\", restic_repo]\n",
        "\n",
        "    try:\n",
        "        # Use --no-lock for faster listing if appropriate\n",
        "        output = subprocess.check_output(\n",
        "            common_args + [\"snapshots\", \"--no-lock\"],\n",
        "            env=os.environ,\n",
        "            text=True\n",
        "        )\n",
        "        print(\"🔍 Current snapshots in repository:\")\n",
        "        print(output)\n",
        "    except subprocess.CalledProcessError as e:\n",
        "        err = e.stderr if hasattr(e, 'stderr') and e.stderr else str(e)\n",
        "        print(\"❗ Error listing snapshots:\", err, file=sys.stderr)"
      ],
      "metadata": {
        "id": "v_hAHCVNApKx"
      },
      "execution_count": 6,
      "outputs": []
    },
    {
      "cell_type": "markdown",
      "source": [
        "##Step 5: Define Baseline Snapshot Helper"
      ],
      "metadata": {
        "id": "PePgx-KWfSc-"
      }
    },
    {
      "cell_type": "code",
      "source": [
        "import subprocess, sys\n",
        "from datetime import datetime\n",
        "\n",
        "def ensure_baseline_snapshot(data_dir: str, restic_repo: str):\n",
        "    \"\"\"\n",
        "    Checks for an existing Restic snapshot; if none, takes the baseline backup.\n",
        "    \"\"\"\n",
        "    common_args = [\n",
        "        \"restic\",\n",
        "        \"--repo\", restic_repo\n",
        "    ]\n",
        "\n",
        "    # 1) List existing snapshots\n",
        "    try:\n",
        "        result = subprocess.run(\n",
        "            common_args + [\"snapshots\", \"--no-lock\"],\n",
        "            capture_output=True, text=True, check=True\n",
        "        )\n",
        "    except subprocess.CalledProcessError as e:\n",
        "        print(\"❗ Error listing snapshots:\", e.stderr, file=sys.stderr)\n",
        "        sys.exit(1)\n",
        "\n",
        "    # 2) If none exist, make the baseline\n",
        "    if any(line.startswith(\"snapshot \") for line in result.stdout.splitlines()):\n",
        "        print(\"✅  Baseline already exists; skipping.\")\n",
        "    else:\n",
        "        #print(\"🚀  No baseline found—taking initial snapshot…\")\n",
        "        try:\n",
        "            subprocess.run(\n",
        "                common_args + [\"backup\", data_dir, \"--tag\", \"baseline\"],\n",
        "                check=True\n",
        "            )\n",
        "            print(f\"✅  Baseline complete at {datetime.now().isoformat()}\")\n",
        "        except subprocess.CalledProcessError as e:\n",
        "            print(\"❗ Backup failed:\", e.stderr, file=sys.stderr)\n",
        "            sys.exit(1)\n",
        "\n",
        "# Immediately take your golden snapshot tagged \"baseline\"\n",
        "#ensure_baseline_snapshot(DATA_DIR, RESTIC_REPO)\n",
        "# After setting up DATA_DIR, RESTIC_REPO, and exporting RESTIC_PASSWORD\n",
        "#print_current_snapshots(RESTIC_REPO)"
      ],
      "metadata": {
        "id": "VXxjnacMfU6z"
      },
      "execution_count": 7,
      "outputs": []
    },
    {
      "cell_type": "markdown",
      "source": [
        "##Step 6: Start Watchdog that Snapshots on Every File-close"
      ],
      "metadata": {
        "id": "aQu3lepQ7eO1"
      }
    },
    {
      "cell_type": "code",
      "source": [
        "from watchdog.observers import Observer\n",
        "from watchdog.events import FileSystemEventHandler\n",
        "import subprocess, os\n",
        "\n",
        "class ResticOnClose(FileSystemEventHandler):\n",
        "    def __init__(self, repo, path): self.repo, self.path = repo, path\n",
        "    def on_closed(self, event):\n",
        "        if event.is_directory: return\n",
        "        print(f\"[Watch] {event.src_path} closed → instant backup\")\n",
        "        subprocess.run(\n",
        "            [\"restic\",\"-r\",self.repo,\"backup\",self.path,\"--tag\",\"auto\"],\n",
        "            env=os.environ, check=False\n",
        "        )\n",
        "\n",
        "observer = Observer()\n",
        "observer.schedule(ResticOnClose(RESTIC_REPO, DATA_DIR), str(DATA_DIR), recursive=True)\n",
        "observer.start()\n",
        "print(\"📡 Watchdog active — every write triggers a restic backup\")"
      ],
      "metadata": {
        "id": "fX7FN0yP7dzs",
        "colab": {
          "base_uri": "https://localhost:8080/"
        },
        "outputId": "3adf907e-14b1-43c9-eea5-8e462fff6ecb"
      },
      "execution_count": 8,
      "outputs": [
        {
          "output_type": "stream",
          "name": "stdout",
          "text": [
            "📡 Watchdog active — every write triggers a restic backup\n"
          ]
        }
      ]
    },
    {
      "cell_type": "markdown",
      "source": [
        "##Step 7: Start Background Producer\n",
        "Writes new log file every 15 seconds"
      ],
      "metadata": {
        "id": "ejat6OWg60nR"
      }
    },
    {
      "cell_type": "code",
      "source": [
        "import threading, random, string, pathlib, time\n",
        "STREAM_DIR = pathlib.Path(DATA_DIR) / \"logs\"; STREAM_DIR.mkdir(exist_ok=True)\n",
        "\n",
        "def producer(stop_event, interval=15):\n",
        "    while not stop_event.is_set():\n",
        "        fn = STREAM_DIR / f\"log_{int(time.time())}.txt\"\n",
        "        fn.write_text(''.join(random.choices(string.ascii_letters, k=1024)))\n",
        "        print(f\"[Producer] wrote {fn.name}\")\n",
        "        time.sleep(interval)\n",
        "\n",
        "stop_event = threading.Event()\n",
        "prod_thr   = threading.Thread(target=producer, args=(stop_event,), daemon=True)\n",
        "prod_thr.start()"
      ],
      "metadata": {
        "id": "UdGULheR6z96"
      },
      "execution_count": 9,
      "outputs": []
    },
    {
      "cell_type": "markdown",
      "source": [
        "##Step 8: Define Periodic Baseline Scheduler"
      ],
      "metadata": {
        "id": "ZFeC0xxcETr2"
      }
    },
    {
      "cell_type": "code",
      "source": [
        "import threading\n",
        "import time\n",
        "\n",
        "def start_periodic_baseline(data_dir: str, restic_repo: str, interval: int = 30):\n",
        "    \"\"\"\n",
        "    Spawns a background thread that re-tags the latest state as a new baseline\n",
        "    every `interval` seconds by calling ensure_baseline_snapshot().\n",
        "    \"\"\"\n",
        "    def loop():\n",
        "        while True:\n",
        "            ensure_baseline_snapshot(data_dir, restic_repo)\n",
        "            time.sleep(interval)\n",
        "\n",
        "    t = threading.Thread(target=loop, daemon=True)\n",
        "    t.start()\n",
        "    print(f\"🕒 Started periodic baseline thread (every {interval}s)\")\n",
        "\n",
        "start_periodic_baseline(DATA_DIR, RESTIC_REPO, interval=30)"
      ],
      "metadata": {
        "id": "FqI_9DuwEYYm",
        "colab": {
          "base_uri": "https://localhost:8080/"
        },
        "outputId": "eac6e67f-f954-455b-8c93-60a9b8814b7c"
      },
      "execution_count": 10,
      "outputs": [
        {
          "output_type": "stream",
          "name": "stdout",
          "text": [
            "🕒 Started periodic baseline thread (every 30s)\n"
          ]
        }
      ]
    },
    {
      "cell_type": "markdown",
      "source": [
        "##Step 9: Define Helper to Restore Latest Baseline Snapshot that is Readable"
      ],
      "metadata": {
        "id": "3ccRa7m6FZTm"
      }
    },
    {
      "cell_type": "code",
      "source": [
        "import subprocess\n",
        "import os\n",
        "import pathlib\n",
        "import shutil\n",
        "import sys\n",
        "import json\n",
        "import tempfile\n",
        "from datetime import datetime\n",
        "\n",
        "def restore_latest_clean_baseline(restic_repo: str, restore_dir: str):\n",
        "    \"\"\"\n",
        "    Attempts to restore the latest clean baseline snapshot.\n",
        "    Iterates through snapshots tagged 'baseline' in reverse chronological order,\n",
        "    restores to a temporary directory, verifies critical files, moves data,\n",
        "    and returns the restored snapshot ID.\n",
        "    \"\"\"\n",
        "    print(\"🔍 Searching for clean baseline snapshots...\")\n",
        "\n",
        "    # 1. List baseline snapshots\n",
        "    try:\n",
        "        proc = subprocess.run(\n",
        "            [\"restic\", \"-r\", restic_repo, \"snapshots\", \"--tag\", \"baseline\", \"--json\"],\n",
        "            capture_output=True, text=True, check=True, env=os.environ\n",
        "        )\n",
        "        snapshots = json.loads(proc.stdout)\n",
        "    except subprocess.CalledProcessError as e:\n",
        "        print(\"❌ Failed to list baseline snapshots:\", e.stderr.strip(), file=sys.stderr)\n",
        "        return False, None\n",
        "\n",
        "    if not snapshots:\n",
        "        print(\"❌ No baseline snapshots found.\")\n",
        "        return False, None\n",
        "\n",
        "    # 2. Sort by timestamp descending\n",
        "    for snap in snapshots:\n",
        "        snap[\"parsed_time\"] = datetime.fromisoformat(snap[\"time\"].rstrip(\"Z\"))\n",
        "    snapshots.sort(key=lambda s: s[\"parsed_time\"], reverse=True)\n",
        "\n",
        "    restore_path = pathlib.Path(restore_dir)\n",
        "    tmp_root = pathlib.Path(tempfile.mkdtemp(prefix=\"restic_tmp_\"))\n",
        "\n",
        "    try:\n",
        "        # 3. Try each snapshot until valid\n",
        "        for snap in snapshots:\n",
        "            sid = snap[\"id\"]\n",
        "            print(f\"🕵️ Trying snapshot {sid}...\")\n",
        "\n",
        "            tmp_dir = tmp_root / sid\n",
        "            if tmp_dir.exists():\n",
        "                shutil.rmtree(tmp_dir)\n",
        "            tmp_dir.mkdir(parents=True)\n",
        "\n",
        "            # Restore\n",
        "            try:\n",
        "                subprocess.run(\n",
        "                    [\"restic\", \"-r\", restic_repo, \"restore\", sid, \"--target\", str(tmp_dir)],\n",
        "                    capture_output=True, text=True, check=True\n",
        "                )\n",
        "            except subprocess.CalledProcessError as e:\n",
        "                print(f\"⚠️ Restore failed for {sid}: {e.stderr.strip()}\")\n",
        "                continue\n",
        "\n",
        "            # Locate victim_data\n",
        "            victim_dirs = list(tmp_dir.rglob(\"victim_data\"))\n",
        "            if not victim_dirs:\n",
        "                print(f\"❌ victim_data not found in {sid}\")\n",
        "                continue\n",
        "            victim_path = victim_dirs[0]\n",
        "\n",
        "            # Verify critical file readability\n",
        "            critical = victim_path / \"docs\" / \"report_Q1.txt\"\n",
        "            if not critical.exists():\n",
        "                print(f\"❌ report_Q1.txt missing in {sid}\")\n",
        "                continue\n",
        "            try:\n",
        "                with open(critical, 'r') as f:\n",
        "                    f.read(1)\n",
        "            except Exception as e:\n",
        "                print(f\"❌ Cannot read report_Q1.txt in {sid}: {e}\")\n",
        "                continue\n",
        "\n",
        "            # 4. Prepare restore_dir\n",
        "            if restore_path.exists():\n",
        "                shutil.rmtree(restore_path)\n",
        "            restore_path.mkdir(parents=True)\n",
        "\n",
        "            # Move contents\n",
        "            for item in tmp_dir.iterdir():\n",
        "                shutil.move(str(item), str(restore_path / item.name))\n",
        "\n",
        "            print(f\"✅ Restored clean baseline {sid} into {restore_dir}\")\n",
        "            return True, sid\n",
        "\n",
        "        print(\"❌ No clean baseline snapshot found.\")\n",
        "        return False, None\n",
        "\n",
        "    finally:\n",
        "        shutil.rmtree(tmp_root)"
      ],
      "metadata": {
        "id": "qUZaaqaCn20d"
      },
      "execution_count": 11,
      "outputs": []
    },
    {
      "cell_type": "markdown",
      "source": [
        "##Step 10: 30 Seconds Pause\n",
        "Producer and Watchdog can create auto snapshots"
      ],
      "metadata": {
        "id": "p5a4og-i79sJ"
      }
    },
    {
      "cell_type": "code",
      "source": [
        "import time, subprocess, os\n",
        "print(\"⌛ Sleeping 30 s so real‑time activity accumulates …\")\n",
        "time.sleep(30)\n",
        "print_current_snapshots(RESTIC_REPO)\n",
        "#!restic -r $REPO_DIR snapshots | tail -n +3       # show newest snapshots"
      ],
      "metadata": {
        "id": "Q-_up1L08Js3",
        "colab": {
          "base_uri": "https://localhost:8080/"
        },
        "outputId": "87256ebd-8be7-4676-e93b-5d93c44194ca"
      },
      "execution_count": 13,
      "outputs": [
        {
          "output_type": "stream",
          "name": "stdout",
          "text": [
            "⌛ Sleeping 30 s so real‑time activity accumulates …\n",
            "[Producer] wrote log_1753481765.txt\n",
            "[Watch] /content/drive/MyDrive/ransomware_lab/victim_data/logs/log_1753481765.txt closed → instant backup\n",
            "[Producer] wrote log_1753481780.txt\n",
            "[Watch] /content/drive/MyDrive/ransomware_lab/victim_data/logs/log_1753481780.txt closed → instant backup\n",
            "✅  Baseline complete at 2025-07-25T22:16:23.657343\n",
            "🔍 Current snapshots in repository:\n",
            "ID        Time                 Host          Tags        Paths\n",
            "----------------------------------------------------------------------------------------------------------\n",
            "b37ff37f  2025-07-25 22:15:20  41d67b53b417  auto        /content/drive/MyDrive/ransomware_lab/victim_data\n",
            "1425f92a  2025-07-25 22:15:22  41d67b53b417  baseline    /content/drive/MyDrive/ransomware_lab/victim_data\n",
            "9b6a6d5d  2025-07-25 22:15:35  41d67b53b417  auto        /content/drive/MyDrive/ransomware_lab/victim_data\n",
            "19d9709e  2025-07-25 22:15:50  41d67b53b417  auto        /content/drive/MyDrive/ransomware_lab/victim_data\n",
            "acf00fc9  2025-07-25 22:15:52  41d67b53b417  baseline    /content/drive/MyDrive/ransomware_lab/victim_data\n",
            "8e403c4b  2025-07-25 22:16:05  41d67b53b417  auto        /content/drive/MyDrive/ransomware_lab/victim_data\n",
            "5b341f06  2025-07-25 22:16:20  41d67b53b417  auto        /content/drive/MyDrive/ransomware_lab/victim_data\n",
            "d63a9614  2025-07-25 22:16:23  41d67b53b417  baseline    /content/drive/MyDrive/ransomware_lab/victim_data\n",
            "----------------------------------------------------------------------------------------------------------\n",
            "8 snapshots\n",
            "\n"
          ]
        }
      ]
    },
    {
      "cell_type": "markdown",
      "source": [
        "##Step 11: Simulate Ransomware attack"
      ],
      "metadata": {
        "id": "ydAstZS6wjcF"
      }
    },
    {
      "cell_type": "markdown",
      "source": [
        "###Define Helper to Mark Simulated Ransomware Attack in Snapshots"
      ],
      "metadata": {
        "id": "40LAUYiEI9w6"
      }
    },
    {
      "cell_type": "code",
      "source": [
        "import subprocess, os\n",
        "\n",
        "def mark_attack_snapshot(data_dir: str, restic_repo: str):\n",
        "    \"\"\"\n",
        "    Takes a Restic backup of data_dir and tags it 'attack' to mark\n",
        "    the moment of the simulated ransomware event.\n",
        "    \"\"\"\n",
        "    common_args = [\"restic\", \"--repo\", restic_repo]\n",
        "    print(\"⚠️  Ransomware attack simulated — taking 'attack' snapshot…\")\n",
        "    subprocess.run(\n",
        "        common_args + [\"backup\", data_dir, \"--tag\", \"attack\"],\n",
        "        check=True, env=os.environ\n",
        "    )\n",
        "    print(\"✅  'attack' snapshot complete.\")"
      ],
      "metadata": {
        "id": "dkzcMmLqJQSJ"
      },
      "execution_count": 14,
      "outputs": []
    },
    {
      "cell_type": "markdown",
      "source": [
        "###Encrypt the files and Simulate Attack"
      ],
      "metadata": {
        "id": "tOtofpB7J5lm"
      }
    },
    {
      "cell_type": "code",
      "source": [
        "%%bash -s \"$DATA_DIR\"\n",
        "VICTIM=$1\n",
        "# Encrypt *.txt as a stand‑in for ransomware, then delete originals\n",
        "cd \"$VICTIM/docs\"\n",
        "for f in *.txt; do\n",
        "  openssl enc -aes-256-cbc -md sha256 -salt -in \"$f\" -out \"${f}.enc\" -pass pass:evil123\n",
        "  shred -u \"$f\"\n",
        "done\n",
        "echo \"After attack:\"\n",
        "tree -h \"$VICTIM\""
      ],
      "metadata": {
        "id": "R55dkZqZ9Awv",
        "colab": {
          "base_uri": "https://localhost:8080/"
        },
        "outputId": "bf131748-c117-4541-acbd-cf8a28a0bff5"
      },
      "execution_count": 15,
      "outputs": [
        {
          "output_type": "stream",
          "name": "stdout",
          "text": [
            "[Watch] /content/drive/MyDrive/ransomware_lab/victim_data/docs/report_Q1.txt.enc closed → instant backup\n",
            "After attack:\n",
            "[4.0K]  /content/drive/MyDrive/ransomware_lab/victim_data\n",
            "├── [4.0K]  docs\n",
            "│   ├── [  48]  report_Q1.txt.enc\n",
            "│   └── [  48]  users.txt.enc\n",
            "├── [4.0K]  images\n",
            "│   └── [1.0M]  raw_sensor_dump.bin\n",
            "└── [4.0K]  logs\n",
            "    ├── [1.0K]  log_1753481720.txt\n",
            "    ├── [1.0K]  log_1753481735.txt\n",
            "    ├── [1.0K]  log_1753481750.txt\n",
            "    ├── [1.0K]  log_1753481765.txt\n",
            "    ├── [1.0K]  log_1753481780.txt\n",
            "    └── [1.0K]  log_1753481795.txt\n",
            "\n",
            "3 directories, 9 files\n"
          ]
        },
        {
          "output_type": "stream",
          "name": "stderr",
          "text": [
            "*** WARNING : deprecated key derivation used.\n",
            "Using -iter or -pbkdf2 would be better.\n",
            "*** WARNING : deprecated key derivation used.\n",
            "Using -iter or -pbkdf2 would be better.\n"
          ]
        }
      ]
    },
    {
      "cell_type": "code",
      "source": [
        "##mark the attack in Restic\n",
        "mark_attack_snapshot(DATA_DIR, RESTIC_REPO)"
      ],
      "metadata": {
        "id": "sD8JreW4eoRd",
        "colab": {
          "base_uri": "https://localhost:8080/"
        },
        "outputId": "a64890ab-254c-46a0-cfe2-8c666c7462ef"
      },
      "execution_count": 16,
      "outputs": [
        {
          "output_type": "stream",
          "name": "stdout",
          "text": [
            "⚠️  Ransomware attack simulated — taking 'attack' snapshot…\n",
            "✅  'attack' snapshot complete.\n"
          ]
        }
      ]
    },
    {
      "cell_type": "code",
      "source": [
        "print_current_snapshots(RESTIC_REPO)"
      ],
      "metadata": {
        "id": "dQHv-RxSKNKj",
        "colab": {
          "base_uri": "https://localhost:8080/"
        },
        "outputId": "023161d3-1bd6-4777-fad8-2457c1be0793"
      },
      "execution_count": 17,
      "outputs": [
        {
          "output_type": "stream",
          "name": "stdout",
          "text": [
            "🔍 Current snapshots in repository:\n",
            "ID        Time                 Host          Tags        Paths\n",
            "----------------------------------------------------------------------------------------------------------\n",
            "b37ff37f  2025-07-25 22:15:20  41d67b53b417  auto        /content/drive/MyDrive/ransomware_lab/victim_data\n",
            "1425f92a  2025-07-25 22:15:22  41d67b53b417  baseline    /content/drive/MyDrive/ransomware_lab/victim_data\n",
            "9b6a6d5d  2025-07-25 22:15:35  41d67b53b417  auto        /content/drive/MyDrive/ransomware_lab/victim_data\n",
            "19d9709e  2025-07-25 22:15:50  41d67b53b417  auto        /content/drive/MyDrive/ransomware_lab/victim_data\n",
            "acf00fc9  2025-07-25 22:15:52  41d67b53b417  baseline    /content/drive/MyDrive/ransomware_lab/victim_data\n",
            "8e403c4b  2025-07-25 22:16:05  41d67b53b417  auto        /content/drive/MyDrive/ransomware_lab/victim_data\n",
            "5b341f06  2025-07-25 22:16:20  41d67b53b417  auto        /content/drive/MyDrive/ransomware_lab/victim_data\n",
            "d63a9614  2025-07-25 22:16:23  41d67b53b417  baseline    /content/drive/MyDrive/ransomware_lab/victim_data\n",
            "f9017f6e  2025-07-25 22:16:35  41d67b53b417  auto        /content/drive/MyDrive/ransomware_lab/victim_data\n",
            "4c257d29  2025-07-25 22:16:39  41d67b53b417  auto        /content/drive/MyDrive/ransomware_lab/victim_data\n",
            "1b652bda  2025-07-25 22:16:39  41d67b53b417  auto        /content/drive/MyDrive/ransomware_lab/victim_data\n",
            "c03d8fba  2025-07-25 22:16:40  41d67b53b417  auto        /content/drive/MyDrive/ransomware_lab/victim_data\n",
            "53c74ef3  2025-07-25 22:16:40  41d67b53b417  auto        /content/drive/MyDrive/ransomware_lab/victim_data\n",
            "c7a36436  2025-07-25 22:16:41  41d67b53b417  attack      /content/drive/MyDrive/ransomware_lab/victim_data\n",
            "----------------------------------------------------------------------------------------------------------\n",
            "14 snapshots\n",
            "\n"
          ]
        }
      ]
    },
    {
      "cell_type": "markdown",
      "source": [
        "##Step 12: Attempt to Read\n",
        "Will fail"
      ],
      "metadata": {
        "id": "y4jhKPX7woC5"
      }
    },
    {
      "cell_type": "code",
      "source": [
        "import pathlib, sys\n",
        "\n",
        "plaintext = pathlib.Path(DATA_DIR) / \"docs\" / \"report_Q1.txt\"   # original file path\n",
        "\n",
        "try:\n",
        "    text = plaintext.read_text()          # should raise FileNotFoundError\n",
        "    print(\"❌  UNEXPECTED: plaintext still readable!\", text[:100])\n",
        "    sys.exit(1)\n",
        "except (FileNotFoundError, PermissionError):\n",
        "    print(\"✅  Expected failure: plaintext is gone or unreadable — ransomware succeeded.\")"
      ],
      "metadata": {
        "id": "7YVOrUoY8x6D",
        "colab": {
          "base_uri": "https://localhost:8080/"
        },
        "outputId": "b403a4dc-d001-45bc-c7e3-abd7aee2ce23"
      },
      "execution_count": 18,
      "outputs": [
        {
          "output_type": "stream",
          "name": "stdout",
          "text": [
            "✅  Expected failure: plaintext is gone or unreadable — ransomware succeeded.\n"
          ]
        }
      ]
    },
    {
      "cell_type": "markdown",
      "source": [
        "##Step 13: Restore the Latest Clean Snapshot"
      ],
      "metadata": {
        "id": "xm9WBmhOwutv"
      }
    },
    {
      "cell_type": "code",
      "source": [
        "#List all snapshots\n",
        "print_current_snapshots(RESTIC_REPO)"
      ],
      "metadata": {
        "id": "bwUKOxCyERNs",
        "colab": {
          "base_uri": "https://localhost:8080/"
        },
        "outputId": "c42e9fc5-feb8-4702-a2f6-e7463e82ba5f"
      },
      "execution_count": 19,
      "outputs": [
        {
          "output_type": "stream",
          "name": "stdout",
          "text": [
            "🔍 Current snapshots in repository:\n",
            "ID        Time                 Host          Tags        Paths\n",
            "----------------------------------------------------------------------------------------------------------\n",
            "b37ff37f  2025-07-25 22:15:20  41d67b53b417  auto        /content/drive/MyDrive/ransomware_lab/victim_data\n",
            "1425f92a  2025-07-25 22:15:22  41d67b53b417  baseline    /content/drive/MyDrive/ransomware_lab/victim_data\n",
            "9b6a6d5d  2025-07-25 22:15:35  41d67b53b417  auto        /content/drive/MyDrive/ransomware_lab/victim_data\n",
            "19d9709e  2025-07-25 22:15:50  41d67b53b417  auto        /content/drive/MyDrive/ransomware_lab/victim_data\n",
            "acf00fc9  2025-07-25 22:15:52  41d67b53b417  baseline    /content/drive/MyDrive/ransomware_lab/victim_data\n",
            "8e403c4b  2025-07-25 22:16:05  41d67b53b417  auto        /content/drive/MyDrive/ransomware_lab/victim_data\n",
            "5b341f06  2025-07-25 22:16:20  41d67b53b417  auto        /content/drive/MyDrive/ransomware_lab/victim_data\n",
            "d63a9614  2025-07-25 22:16:23  41d67b53b417  baseline    /content/drive/MyDrive/ransomware_lab/victim_data\n",
            "f9017f6e  2025-07-25 22:16:35  41d67b53b417  auto        /content/drive/MyDrive/ransomware_lab/victim_data\n",
            "4c257d29  2025-07-25 22:16:39  41d67b53b417  auto        /content/drive/MyDrive/ransomware_lab/victim_data\n",
            "1b652bda  2025-07-25 22:16:39  41d67b53b417  auto        /content/drive/MyDrive/ransomware_lab/victim_data\n",
            "c03d8fba  2025-07-25 22:16:40  41d67b53b417  auto        /content/drive/MyDrive/ransomware_lab/victim_data\n",
            "53c74ef3  2025-07-25 22:16:40  41d67b53b417  auto        /content/drive/MyDrive/ransomware_lab/victim_data\n",
            "c7a36436  2025-07-25 22:16:41  41d67b53b417  attack      /content/drive/MyDrive/ransomware_lab/victim_data\n",
            "8fa9a49d  2025-07-25 22:16:50  41d67b53b417  auto        /content/drive/MyDrive/ransomware_lab/victim_data\n",
            "a3b93b4e  2025-07-25 22:16:53  41d67b53b417  baseline    /content/drive/MyDrive/ransomware_lab/victim_data\n",
            "----------------------------------------------------------------------------------------------------------\n",
            "16 snapshots\n",
            "\n"
          ]
        }
      ]
    },
    {
      "cell_type": "code",
      "source": [
        "success, restored_id = restore_latest_clean_baseline(RESTIC_REPO, RESTORE_DIR)"
      ],
      "metadata": {
        "id": "cx2wu0yDGzPb",
        "colab": {
          "base_uri": "https://localhost:8080/"
        },
        "outputId": "a19fc961-9dca-4c8c-ec5b-648fc5bc6df3"
      },
      "execution_count": 20,
      "outputs": [
        {
          "output_type": "stream",
          "name": "stdout",
          "text": [
            "🔍 Searching for clean baseline snapshots...\n",
            "🕵️ Trying snapshot a3b93b4ed7c6cbbb7b18a06bad97756fea1255d2abae4e029c8e973b0127fb1f...\n",
            "❌ report_Q1.txt missing in a3b93b4ed7c6cbbb7b18a06bad97756fea1255d2abae4e029c8e973b0127fb1f\n",
            "🕵️ Trying snapshot d63a96143866b6f4f165dc900e1d62a1229c82e16b9e28e79fc36514669a2b63...\n",
            "✅ Restored clean baseline d63a96143866b6f4f165dc900e1d62a1229c82e16b9e28e79fc36514669a2b63 into /content/drive/MyDrive/ransomware_lab/restore\n"
          ]
        }
      ]
    },
    {
      "cell_type": "markdown",
      "source": [
        "##Step 14: Verify Restored File Exists and Matches Expected Content"
      ],
      "metadata": {
        "id": "mEWjE2jA-Lhm"
      }
    },
    {
      "cell_type": "code",
      "source": [
        "%%bash\n",
        "# 1. Point to your restore directory\n",
        "export RESTORE_DIR=\"/content/drive/MyDrive/ransomware_lab/restore\"\n",
        "\n",
        "# 2. Locate the nested victim_data folder\n",
        "VICTIM_PATH=$(find \"$RESTORE_DIR\" -type d -name victim_data | head -n1)\n",
        "if [ -z \"$VICTIM_PATH\" ]; then\n",
        "  echo \"❌ Could not find victim_data under $RESTORE_DIR\"\n",
        "  exit 1\n",
        "fi\n",
        "\n",
        "echo \"✅ Restored data is at: $VICTIM_PATH\"\n",
        "\n",
        "# 3. List the docs you recovered\n",
        "echo; echo \"Recovered docs:\"\n",
        "tree -h \"$VICTIM_PATH/docs\" | sed -n '1,5p'\n",
        "\n",
        "# 4. Show the contents of report_Q1.txt\n",
        "echo; echo \"Contents of report_Q1.txt:\"\n",
        "cat \"$VICTIM_PATH/docs/report_Q1.txt\""
      ],
      "metadata": {
        "id": "eRHBle5PHGjZ",
        "colab": {
          "base_uri": "https://localhost:8080/"
        },
        "outputId": "ca493aa0-2f86-4504-fbc2-41698b72c712"
      },
      "execution_count": 21,
      "outputs": [
        {
          "output_type": "stream",
          "name": "stdout",
          "text": [
            "✅ Restored data is at: /content/drive/MyDrive/ransomware_lab/restore/content/drive/MyDrive/ransomware_lab/victim_data\n",
            "\n",
            "Recovered docs:\n",
            "[4.0K]  /content/drive/MyDrive/ransomware_lab/restore/content/drive/MyDrive/ransomware_lab/victim_data/docs\n",
            "├── [  28]  report_Q1.txt\n",
            "└── [  25]  users.txt\n",
            "\n",
            "0 directories, 2 files\n",
            "\n",
            "Contents of report_Q1.txt:\n",
            "Quarterly revenue: $123,456\n"
          ]
        }
      ]
    },
    {
      "cell_type": "code",
      "source": [
        "import pathlib, hashlib, sys\n",
        "\n",
        "# Adjust this to your actual restore path variable if needed\n",
        "restore_root = pathlib.Path(RESTORE_DIR)\n",
        "victim = next(restore_root.rglob(\"victim_data\"), None)\n",
        "if victim is None:\n",
        "    print(\"❌  victim_data not found!\"); sys.exit(1)\n",
        "\n",
        "file = victim / \"docs\" / \"report_Q1.txt\"\n",
        "if not file.exists():\n",
        "    print(\"❌  report_Q1.txt missing!\"); sys.exit(1)\n",
        "\n",
        "content = file.read_text()\n",
        "assert \"Quarterly revenue: $123,456\" in content, \"Content mismatch!\"\n",
        "\n",
        "sha = hashlib.sha256(file.read_bytes()).hexdigest()\n",
        "print(f\"✅  report_Q1.txt verified — SHA‑256: {sha[:12]}…\")"
      ],
      "metadata": {
        "id": "9orVPqZO-QaS",
        "colab": {
          "base_uri": "https://localhost:8080/"
        },
        "outputId": "d47b56db-98b8-47a8-8a76-941af745fe09"
      },
      "execution_count": 22,
      "outputs": [
        {
          "output_type": "stream",
          "name": "stdout",
          "text": [
            "✅  Baseline complete at 2025-07-25T22:17:24.894946\n",
            "✅  report_Q1.txt verified — SHA‑256: 2758452adf6e…\n"
          ]
        }
      ]
    },
    {
      "cell_type": "markdown",
      "source": [
        "##Step 15: Compare Original to Restored\n",
        "Sanity Check"
      ],
      "metadata": {
        "id": "7LM9aVFqw3qY"
      }
    },
    {
      "cell_type": "code",
      "source": [
        "%%bash -s \"$DATA_DIR\" \"$RESTORE_DIR\"\n",
        "# $1 is the live data dir, $2 is where Restic put your restore tree\n",
        "ORIG=\"$1\"\n",
        "RESTORE_ROOT=\"$2\"\n",
        "\n",
        "# 2. Locate the restored victim_data under RESTORE_ROOT\n",
        "RESTORED_V=$(find \"$RESTORE_ROOT\" -type d -name victim_data | head -n1)\n",
        "if [ -z \"$RESTORED_V\" ]; then\n",
        "  echo \"❌  Could not find victim_data under $RESTORE_ROOT\"\n",
        "  exit 1\n",
        "fi\n",
        "\n",
        "echo \"✅  Restored data is at: $RESTORED_V\"\n",
        "echo\n",
        "\n",
        "# 3. Compare original vs restored\n",
        "echo \"Comparing live vs restored:\"\n",
        "echo \"  live:     $ORIG\"\n",
        "echo \"  restored: $RESTORED_V\"\n",
        "echo\n",
        "\n",
        "diff -rq \"$ORIG\" \"$RESTORED_V\" \\\n",
        "  && echo \"✅  No unexpected differences.\" \\\n",
        "  || echo \"🔶  Differences above are expected for encrypted docs.\""
      ],
      "metadata": {
        "id": "StnGbId0IeXF"
      },
      "execution_count": null,
      "outputs": []
    },
    {
      "cell_type": "markdown",
      "source": [
        "##Step 16: Stop Background Producer and Watchdog"
      ],
      "metadata": {
        "id": "zYdYrS9L8a7O"
      }
    },
    {
      "cell_type": "code",
      "source": [
        "stop_event.set()               # stop producer loop\n",
        "observer.stop(); observer.join()\n",
        "print(\"✅ Real‑time components shut down\")"
      ],
      "metadata": {
        "id": "tcjofVBM8am5",
        "colab": {
          "base_uri": "https://localhost:8080/"
        },
        "outputId": "6c041f54-8344-489e-fcd2-fb8fbd0e15ff"
      },
      "execution_count": 23,
      "outputs": [
        {
          "output_type": "stream",
          "name": "stdout",
          "text": [
            "✅ Real‑time components shut down\n"
          ]
        }
      ]
    },
    {
      "cell_type": "code",
      "source": [
        "print_current_snapshots(RESTIC_REPO)"
      ],
      "metadata": {
        "colab": {
          "base_uri": "https://localhost:8080/"
        },
        "id": "L0LtLWegqeEA",
        "outputId": "594487e8-70a9-4b28-c23d-8d0447835d34"
      },
      "execution_count": 31,
      "outputs": [
        {
          "output_type": "stream",
          "name": "stdout",
          "text": [
            "🔍 Current snapshots in repository:\n",
            "ID        Time                 Host          Tags        Paths\n",
            "----------------------------------------------------------------------------------------------------------\n",
            "b37ff37f  2025-07-25 22:15:20  41d67b53b417  auto        /content/drive/MyDrive/ransomware_lab/victim_data\n",
            "1425f92a  2025-07-25 22:15:22  41d67b53b417  baseline    /content/drive/MyDrive/ransomware_lab/victim_data\n",
            "9b6a6d5d  2025-07-25 22:15:35  41d67b53b417  auto        /content/drive/MyDrive/ransomware_lab/victim_data\n",
            "19d9709e  2025-07-25 22:15:50  41d67b53b417  auto        /content/drive/MyDrive/ransomware_lab/victim_data\n",
            "acf00fc9  2025-07-25 22:15:52  41d67b53b417  baseline    /content/drive/MyDrive/ransomware_lab/victim_data\n",
            "8e403c4b  2025-07-25 22:16:05  41d67b53b417  auto        /content/drive/MyDrive/ransomware_lab/victim_data\n",
            "5b341f06  2025-07-25 22:16:20  41d67b53b417  auto        /content/drive/MyDrive/ransomware_lab/victim_data\n",
            "d63a9614  2025-07-25 22:16:23  41d67b53b417  baseline    /content/drive/MyDrive/ransomware_lab/victim_data\n",
            "f9017f6e  2025-07-25 22:16:35  41d67b53b417  auto        /content/drive/MyDrive/ransomware_lab/victim_data\n",
            "4c257d29  2025-07-25 22:16:39  41d67b53b417  auto        /content/drive/MyDrive/ransomware_lab/victim_data\n",
            "1b652bda  2025-07-25 22:16:39  41d67b53b417  auto        /content/drive/MyDrive/ransomware_lab/victim_data\n",
            "c03d8fba  2025-07-25 22:16:40  41d67b53b417  auto        /content/drive/MyDrive/ransomware_lab/victim_data\n",
            "53c74ef3  2025-07-25 22:16:40  41d67b53b417  auto        /content/drive/MyDrive/ransomware_lab/victim_data\n",
            "c7a36436  2025-07-25 22:16:41  41d67b53b417  attack      /content/drive/MyDrive/ransomware_lab/victim_data\n",
            "8fa9a49d  2025-07-25 22:16:50  41d67b53b417  auto        /content/drive/MyDrive/ransomware_lab/victim_data\n",
            "a3b93b4e  2025-07-25 22:16:53  41d67b53b417  baseline    /content/drive/MyDrive/ransomware_lab/victim_data\n",
            "d296c711  2025-07-25 22:17:05  41d67b53b417  auto        /content/drive/MyDrive/ransomware_lab/victim_data\n",
            "7cb905a2  2025-07-25 22:17:20  41d67b53b417  auto        /content/drive/MyDrive/ransomware_lab/victim_data\n",
            "fd890804  2025-07-25 22:17:24  41d67b53b417  baseline    /content/drive/MyDrive/ransomware_lab/victim_data\n",
            "----------------------------------------------------------------------------------------------------------\n",
            "19 snapshots\n",
            "\n"
          ]
        }
      ]
    },
    {
      "cell_type": "markdown",
      "source": [
        "##FIX THIS: Optional: Prune Workspace\n",
        "* Locating the deepest nested 'victim_data' directory inside restore_root\n",
        "* Removing any '.enc' encrypted files\n",
        "* Moving the restored data to the original victim_data_path\n",
        "* Pruning the logs directory to keep only the latest .txt file\n",
        "* Deleting all contents of the restore_root directory"
      ],
      "metadata": {
        "id": "6MBEGDt3KIhe"
      }
    },
    {
      "cell_type": "code",
      "source": [
        "import os\n",
        "import shutil\n",
        "import pathlib\n",
        "\n",
        "def finalize_restoration(restore_root: str, victim_data_path: str):\n",
        "    restore_root = pathlib.Path(restore_root)\n",
        "    victim_data_path = pathlib.Path(victim_data_path)\n",
        "\n",
        "    # Locate the deepest nested victim_data directory\n",
        "    nested_victim_dirs = sorted(restore_root.rglob(\"victim_data\"), key=lambda p: len(str(p)), reverse=True)\n",
        "    if not nested_victim_dirs:\n",
        "        print(\"❌ No victim_data directory found in restore root.\")\n",
        "        return False\n",
        "\n",
        "    restored_victim = nested_victim_dirs[0]\n",
        "    print(f\"✅ Found restored victim_data at: {restored_victim}\")\n",
        "\n",
        "    # Remove encrypted files\n",
        "    for enc_file in restored_victim.rglob(\"*.enc\"):\n",
        "        try:\n",
        "            enc_file.unlink()\n",
        "            print(f\"🗑️ Deleted encrypted file: {enc_file}\")\n",
        "        except Exception as e:\n",
        "            print(f\"⚠️ Failed to delete {enc_file}: {e}\")\n",
        "\n",
        "    # Replace original victim_data with restored version\n",
        "    if victim_data_path.exists():\n",
        "        shutil.rmtree(victim_data_path)\n",
        "    shutil.copytree(restored_victim, victim_data_path)\n",
        "    print(f\"📦 Moved restored data to: {victim_data_path}\")\n",
        "\n",
        "    # Prune logs to keep only the latest .txt file\n",
        "    logs_dir = victim_data_path / \"logs\"\n",
        "    if logs_dir.exists():\n",
        "        txt_files = sorted(logs_dir.glob(\"*.txt\"), key=lambda f: f.stat().st_mtime, reverse=True)\n",
        "        if txt_files:\n",
        "            latest = txt_files[0]\n",
        "            for f in txt_files[1:]:\n",
        "                try:\n",
        "                    f.unlink()\n",
        "                    print(f\"🗑️ Deleted old log file: {f.name}\")\n",
        "                except Exception as e:\n",
        "                    print(f\"⚠️ Failed to delete log file {f.name}: {e}\")\n",
        "            print(f\"📝 Kept latest log file: {latest.name}\")\n",
        "        else:\n",
        "            print(\"ℹ️ No .txt log files found to prune.\")\n",
        "    else:\n",
        "        print(\"ℹ️ No logs directory found.\")\n",
        "\n",
        "    # Delete all contents of the restore_root directory\n",
        "    for item in restore_root.iterdir():\n",
        "        try:\n",
        "            if item.is_dir():\n",
        "                shutil.rmtree(item)\n",
        "            else:\n",
        "                item.unlink()\n",
        "            print(f\"🧹 Deleted: {item}\")\n",
        "        except Exception as e:\n",
        "            print(f\"⚠️ Failed to delete {item}: {e}\")\n",
        "\n",
        "    return True"
      ],
      "metadata": {
        "id": "Ylw3klTuT7hN"
      },
      "execution_count": 32,
      "outputs": []
    },
    {
      "cell_type": "code",
      "source": [
        "if success:\n",
        "  finalize_restoration(\n",
        "      restore_root=RESTORE_DIR,\n",
        "      victim_data_path=DATA_DIR\n",
        "  )"
      ],
      "metadata": {
        "id": "CL4eYtP-k-JG",
        "colab": {
          "base_uri": "https://localhost:8080/"
        },
        "outputId": "54dc99cb-ab2d-4647-90a7-a63321d59c10"
      },
      "execution_count": 33,
      "outputs": [
        {
          "output_type": "stream",
          "name": "stdout",
          "text": [
            "✅ Found restored victim_data at: /content/drive/MyDrive/ransomware_lab/restore/content/drive/MyDrive/ransomware_lab/victim_data\n",
            "📦 Moved restored data to: /content/drive/MyDrive/ransomware_lab/victim_data\n",
            "🗑️ Deleted old log file: log_1753481765.txt\n",
            "🗑️ Deleted old log file: log_1753481750.txt\n",
            "🗑️ Deleted old log file: log_1753481735.txt\n",
            "🗑️ Deleted old log file: log_1753481720.txt\n",
            "📝 Kept latest log file: log_1753481780.txt\n",
            "🧹 Deleted: /content/drive/MyDrive/ransomware_lab/restore/content\n"
          ]
        }
      ]
    },
    {
      "cell_type": "code",
      "source": [
        "%%bash\n",
        "#!/bin/bash\n",
        "\n",
        "# Define the root directory\n",
        "VICTIM_PATH=\"/content/drive/MyDrive/ransomware_lab/victim_data\"\n",
        "RESTORE_PATH=\"/content/drive/MyDrive/ransomware_lab/restore\"\n",
        "\n",
        "# Check if the directory exists\n",
        "if [ ! -d \"$VICTIM_PATH\" ]; then\n",
        "  echo \"❌ Directory not found: $VICTIM_PATH\"\n",
        "  exit 1\n",
        "fi\n",
        "if [ ! -d \"$RESTORE_PATH\" ]; then\n",
        "  echo \"❌ Directory not found: $RESTORE_PATH\"\n",
        "  exit 1\n",
        "fi\n",
        "\n",
        "# Print the tree with human-readable sizes\n",
        "echo \"📁 Directory tree for: $VICTIM_PATH\"\n",
        "echo\n",
        "\n",
        "tree -h \"$VICTIM_PATH\"\n",
        "# Print the tree with human-readable sizes\n",
        "echo \"📁 Directory tree for: $RESTORE_PATH\"\n",
        "echo\n",
        "\n",
        "tree -h \"$RESTORE_PATH\""
      ],
      "metadata": {
        "id": "UF3df1qWpGSZ",
        "colab": {
          "base_uri": "https://localhost:8080/"
        },
        "outputId": "1f3a989e-7239-4f34-d186-8289b0196634"
      },
      "execution_count": 34,
      "outputs": [
        {
          "output_type": "stream",
          "name": "stdout",
          "text": [
            "📁 Directory tree for: /content/drive/MyDrive/ransomware_lab/victim_data\n",
            "\n",
            "[4.0K]  /content/drive/MyDrive/ransomware_lab/victim_data\n",
            "├── [4.0K]  docs\n",
            "│   ├── [  28]  report_Q1.txt\n",
            "│   └── [  25]  users.txt\n",
            "├── [4.0K]  images\n",
            "│   └── [1.0M]  raw_sensor_dump.bin\n",
            "└── [4.0K]  logs\n",
            "    └── [1.0K]  log_1753481780.txt\n",
            "\n",
            "3 directories, 4 files\n",
            "📁 Directory tree for: /content/drive/MyDrive/ransomware_lab/restore\n",
            "\n",
            "[4.0K]  /content/drive/MyDrive/ransomware_lab/restore\n",
            "\n",
            "0 directories, 0 files\n"
          ]
        }
      ]
    }
  ]
}